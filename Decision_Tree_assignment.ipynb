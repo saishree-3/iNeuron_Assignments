{
  "nbformat": 4,
  "nbformat_minor": 0,
  "metadata": {
    "kernelspec": {
      "display_name": "Python 3",
      "language": "python",
      "name": "python3"
    },
    "language_info": {
      "codemirror_mode": {
        "name": "ipython",
        "version": 3
      },
      "file_extension": ".py",
      "mimetype": "text/x-python",
      "name": "python",
      "nbconvert_exporter": "python",
      "pygments_lexer": "ipython3",
      "version": "3.7.4"
    },
    "colab": {
      "name": "Decision_Tree_assignment.ipynb",
      "provenance": []
    }
  },
  "cells": [
    {
      "cell_type": "markdown",
      "metadata": {
        "id": "dI_Xc4OdqyYI"
      },
      "source": [
        "## Titanic Dataset - Decision Tree Regression"
      ]
    },
    {
      "cell_type": "markdown",
      "metadata": {
        "id": "El4IdPhDqyYJ"
      },
      "source": [
        "## Part - 1. Importing"
      ]
    },
    {
      "cell_type": "markdown",
      "metadata": {
        "id": "jPPUIgoWqyYK"
      },
      "source": [
        "Importing Libraries"
      ]
    },
    {
      "cell_type": "code",
      "metadata": {
        "id": "MkRu3YGSqyYL"
      },
      "source": [
        "import numpy as np\n",
        "import pandas as pd\n",
        "import matplotlib.pyplot as plt\n",
        "import seaborn as sns\n",
        "from sklearn.model_selection import train_test_split\n",
        " "
      ],
      "execution_count": 2,
      "outputs": []
    },
    {
      "cell_type": "markdown",
      "metadata": {
        "id": "q4q3v0ZgqyYO"
      },
      "source": [
        "Importing Dataset"
      ]
    },
    {
      "cell_type": "code",
      "metadata": {
        "id": "pyfG0SP5qyYO"
      },
      "source": [
        "df = pd.read_csv('titanic_train.csv')\n"
      ],
      "execution_count": 3,
      "outputs": []
    },
    {
      "cell_type": "code",
      "metadata": {
        "id": "aoDfsNcHqyYR",
        "outputId": "67d5e2df-c866-46ac-8efb-27092c1271dd",
        "colab": {
          "base_uri": "https://localhost:8080/",
          "height": 250
        }
      },
      "source": [
        "df.head()"
      ],
      "execution_count": 4,
      "outputs": [
        {
          "output_type": "execute_result",
          "data": {
            "text/html": [
              "<div>\n",
              "<style scoped>\n",
              "    .dataframe tbody tr th:only-of-type {\n",
              "        vertical-align: middle;\n",
              "    }\n",
              "\n",
              "    .dataframe tbody tr th {\n",
              "        vertical-align: top;\n",
              "    }\n",
              "\n",
              "    .dataframe thead th {\n",
              "        text-align: right;\n",
              "    }\n",
              "</style>\n",
              "<table border=\"1\" class=\"dataframe\">\n",
              "  <thead>\n",
              "    <tr style=\"text-align: right;\">\n",
              "      <th></th>\n",
              "      <th>PassengerId</th>\n",
              "      <th>Survived</th>\n",
              "      <th>Pclass</th>\n",
              "      <th>Name</th>\n",
              "      <th>Sex</th>\n",
              "      <th>Age</th>\n",
              "      <th>SibSp</th>\n",
              "      <th>Parch</th>\n",
              "      <th>Ticket</th>\n",
              "      <th>Fare</th>\n",
              "      <th>Cabin</th>\n",
              "      <th>Embarked</th>\n",
              "    </tr>\n",
              "  </thead>\n",
              "  <tbody>\n",
              "    <tr>\n",
              "      <th>0</th>\n",
              "      <td>1</td>\n",
              "      <td>0</td>\n",
              "      <td>3</td>\n",
              "      <td>Braund, Mr. Owen Harris</td>\n",
              "      <td>male</td>\n",
              "      <td>22.0</td>\n",
              "      <td>1</td>\n",
              "      <td>0</td>\n",
              "      <td>A/5 21171</td>\n",
              "      <td>7.2500</td>\n",
              "      <td>NaN</td>\n",
              "      <td>S</td>\n",
              "    </tr>\n",
              "    <tr>\n",
              "      <th>1</th>\n",
              "      <td>2</td>\n",
              "      <td>1</td>\n",
              "      <td>1</td>\n",
              "      <td>Cumings, Mrs. John Bradley (Florence Briggs Th...</td>\n",
              "      <td>female</td>\n",
              "      <td>38.0</td>\n",
              "      <td>1</td>\n",
              "      <td>0</td>\n",
              "      <td>PC 17599</td>\n",
              "      <td>71.2833</td>\n",
              "      <td>C85</td>\n",
              "      <td>C</td>\n",
              "    </tr>\n",
              "    <tr>\n",
              "      <th>2</th>\n",
              "      <td>3</td>\n",
              "      <td>1</td>\n",
              "      <td>3</td>\n",
              "      <td>Heikkinen, Miss. Laina</td>\n",
              "      <td>female</td>\n",
              "      <td>26.0</td>\n",
              "      <td>0</td>\n",
              "      <td>0</td>\n",
              "      <td>STON/O2. 3101282</td>\n",
              "      <td>7.9250</td>\n",
              "      <td>NaN</td>\n",
              "      <td>S</td>\n",
              "    </tr>\n",
              "    <tr>\n",
              "      <th>3</th>\n",
              "      <td>4</td>\n",
              "      <td>1</td>\n",
              "      <td>1</td>\n",
              "      <td>Futrelle, Mrs. Jacques Heath (Lily May Peel)</td>\n",
              "      <td>female</td>\n",
              "      <td>35.0</td>\n",
              "      <td>1</td>\n",
              "      <td>0</td>\n",
              "      <td>113803</td>\n",
              "      <td>53.1000</td>\n",
              "      <td>C123</td>\n",
              "      <td>S</td>\n",
              "    </tr>\n",
              "    <tr>\n",
              "      <th>4</th>\n",
              "      <td>5</td>\n",
              "      <td>0</td>\n",
              "      <td>3</td>\n",
              "      <td>Allen, Mr. William Henry</td>\n",
              "      <td>male</td>\n",
              "      <td>35.0</td>\n",
              "      <td>0</td>\n",
              "      <td>0</td>\n",
              "      <td>373450</td>\n",
              "      <td>8.0500</td>\n",
              "      <td>NaN</td>\n",
              "      <td>S</td>\n",
              "    </tr>\n",
              "  </tbody>\n",
              "</table>\n",
              "</div>"
            ],
            "text/plain": [
              "   PassengerId  Survived  Pclass  ...     Fare Cabin  Embarked\n",
              "0            1         0       3  ...   7.2500   NaN         S\n",
              "1            2         1       1  ...  71.2833   C85         C\n",
              "2            3         1       3  ...   7.9250   NaN         S\n",
              "3            4         1       1  ...  53.1000  C123         S\n",
              "4            5         0       3  ...   8.0500   NaN         S\n",
              "\n",
              "[5 rows x 12 columns]"
            ]
          },
          "metadata": {
            "tags": []
          },
          "execution_count": 4
        }
      ]
    },
    {
      "cell_type": "code",
      "metadata": {
        "id": "v-zrljbGqyYU"
      },
      "source": [
        "X = df.drop(['Survived'], axis = 1)\n",
        "y = df['Survived']\n",
        "\n",
        "X.drop(columns = ['PassengerId', 'Ticket'], inplace = True)"
      ],
      "execution_count": 5,
      "outputs": []
    },
    {
      "cell_type": "code",
      "metadata": {
        "id": "Q2gmVAt_qyYX",
        "outputId": "43a2b302-418c-4188-eec9-71e6456d890e",
        "colab": {
          "base_uri": "https://localhost:8080/",
          "height": 188
        }
      },
      "source": [
        "X.dtypes"
      ],
      "execution_count": 6,
      "outputs": [
        {
          "output_type": "execute_result",
          "data": {
            "text/plain": [
              "Pclass        int64\n",
              "Name         object\n",
              "Sex          object\n",
              "Age         float64\n",
              "SibSp         int64\n",
              "Parch         int64\n",
              "Fare        float64\n",
              "Cabin        object\n",
              "Embarked     object\n",
              "dtype: object"
            ]
          },
          "metadata": {
            "tags": []
          },
          "execution_count": 6
        }
      ]
    },
    {
      "cell_type": "markdown",
      "metadata": {
        "id": "eJjn6UVhqyYZ"
      },
      "source": [
        "## Part - 2. Data Preprocessing"
      ]
    },
    {
      "cell_type": "markdown",
      "metadata": {
        "id": "Lvo-do6nqyYa"
      },
      "source": [
        "## Missing Values"
      ]
    },
    {
      "cell_type": "code",
      "metadata": {
        "scrolled": true,
        "id": "a1tGUGvTqyYa",
        "outputId": "8e5270e3-76ad-4b1d-ab34-0f42d0aee150",
        "colab": {
          "base_uri": "https://localhost:8080/",
          "height": 188
        }
      },
      "source": [
        "X.isna().sum() "
      ],
      "execution_count": 7,
      "outputs": [
        {
          "output_type": "execute_result",
          "data": {
            "text/plain": [
              "Pclass        0\n",
              "Name          0\n",
              "Sex           0\n",
              "Age         177\n",
              "SibSp         0\n",
              "Parch         0\n",
              "Fare          0\n",
              "Cabin       687\n",
              "Embarked      2\n",
              "dtype: int64"
            ]
          },
          "metadata": {
            "tags": []
          },
          "execution_count": 7
        }
      ]
    },
    {
      "cell_type": "markdown",
      "metadata": {
        "id": "r_13OHx6qyYf"
      },
      "source": [
        "**Handle Cabin - Missing values**"
      ]
    },
    {
      "cell_type": "markdown",
      "metadata": {
        "id": "zdHo67onqyYf"
      },
      "source": [
        "**Cabin has too many missing values, also they don't seem to be important and imputing them would only add noise and be a waste of time**"
      ]
    },
    {
      "cell_type": "code",
      "metadata": {
        "id": "BCRM-lQ6qyYg"
      },
      "source": [
        "X = X.drop(columns = ['Cabin'])"
      ],
      "execution_count": 8,
      "outputs": []
    },
    {
      "cell_type": "markdown",
      "metadata": {
        "id": "MNZCbl7jqyYj"
      },
      "source": [
        "**Handle Age - Missing values**"
      ]
    },
    {
      "cell_type": "code",
      "metadata": {
        "id": "EpHOST7-qyYj",
        "outputId": "c8fe82e3-59cf-465c-8ed8-c2007ed57bdb",
        "colab": {
          "base_uri": "https://localhost:8080/",
          "height": 282
        }
      },
      "source": [
        "df['Age'].hist()"
      ],
      "execution_count": 9,
      "outputs": [
        {
          "output_type": "execute_result",
          "data": {
            "text/plain": [
              "<matplotlib.axes._subplots.AxesSubplot at 0x7f6959830048>"
            ]
          },
          "metadata": {
            "tags": []
          },
          "execution_count": 9
        },
        {
          "output_type": "display_data",
          "data": {
            "image/png": "[encoded data removed]",
            "text/plain": [
              "<Figure size 432x288 with 1 Axes>"
            ]
          },
          "metadata": {
            "tags": [],
            "needs_background": "light"
          }
        }
      ]
    },
    {
      "cell_type": "code",
      "metadata": {
        "id": "LSvGSAyAqyYm"
      },
      "source": [
        "mis_age = X.copy()\n",
        "mis_age = mis_age.loc[ mis_age['Age'].isna(), :]\n",
        "mis_age.loc[ mis_age['Age'].isna(), 'Age'] = 0 #Replacing Nan values with 0"
      ],
      "execution_count": 10,
      "outputs": []
    },
    {
      "cell_type": "markdown",
      "metadata": {
        "id": "O9f0Bo5DqyYp"
      },
      "source": [
        "Creating Salutation title from Name to detect the Age"
      ]
    },
    {
      "cell_type": "code",
      "metadata": {
        "id": "bCnBO4syqyYq"
      },
      "source": [
        "mis_age['Salutation'] =mis_age['Name'].str.extract(r\"(Ms|Miss|Mrs|Mme|Mlle|Mr|Master|Major|Rev|Col|Capt|Don|Dr)\")"
      ],
      "execution_count": 11,
      "outputs": []
    },
    {
      "cell_type": "code",
      "metadata": {
        "scrolled": true,
        "id": "ZqCGMaSJqyYs",
        "outputId": "2bc5bc3b-c2f6-488a-815c-22e8d7e5dc2f",
        "colab": {
          "base_uri": "https://localhost:8080/",
          "height": 199
        }
      },
      "source": [
        "mis_age.head()"
      ],
      "execution_count": 12,
      "outputs": [
        {
          "output_type": "execute_result",
          "data": {
            "text/html": [
              "<div>\n",
              "<style scoped>\n",
              "    .dataframe tbody tr th:only-of-type {\n",
              "        vertical-align: middle;\n",
              "    }\n",
              "\n",
              "    .dataframe tbody tr th {\n",
              "        vertical-align: top;\n",
              "    }\n",
              "\n",
              "    .dataframe thead th {\n",
              "        text-align: right;\n",
              "    }\n",
              "</style>\n",
              "<table border=\"1\" class=\"dataframe\">\n",
              "  <thead>\n",
              "    <tr style=\"text-align: right;\">\n",
              "      <th></th>\n",
              "      <th>Pclass</th>\n",
              "      <th>Name</th>\n",
              "      <th>Sex</th>\n",
              "      <th>Age</th>\n",
              "      <th>SibSp</th>\n",
              "      <th>Parch</th>\n",
              "      <th>Fare</th>\n",
              "      <th>Embarked</th>\n",
              "      <th>Salutation</th>\n",
              "    </tr>\n",
              "  </thead>\n",
              "  <tbody>\n",
              "    <tr>\n",
              "      <th>5</th>\n",
              "      <td>3</td>\n",
              "      <td>Moran, Mr. James</td>\n",
              "      <td>male</td>\n",
              "      <td>0.0</td>\n",
              "      <td>0</td>\n",
              "      <td>0</td>\n",
              "      <td>8.4583</td>\n",
              "      <td>Q</td>\n",
              "      <td>Mr</td>\n",
              "    </tr>\n",
              "    <tr>\n",
              "      <th>17</th>\n",
              "      <td>2</td>\n",
              "      <td>Williams, Mr. Charles Eugene</td>\n",
              "      <td>male</td>\n",
              "      <td>0.0</td>\n",
              "      <td>0</td>\n",
              "      <td>0</td>\n",
              "      <td>13.0000</td>\n",
              "      <td>S</td>\n",
              "      <td>Mr</td>\n",
              "    </tr>\n",
              "    <tr>\n",
              "      <th>19</th>\n",
              "      <td>3</td>\n",
              "      <td>Masselmani, Mrs. Fatima</td>\n",
              "      <td>female</td>\n",
              "      <td>0.0</td>\n",
              "      <td>0</td>\n",
              "      <td>0</td>\n",
              "      <td>7.2250</td>\n",
              "      <td>C</td>\n",
              "      <td>Mrs</td>\n",
              "    </tr>\n",
              "    <tr>\n",
              "      <th>26</th>\n",
              "      <td>3</td>\n",
              "      <td>Emir, Mr. Farred Chehab</td>\n",
              "      <td>male</td>\n",
              "      <td>0.0</td>\n",
              "      <td>0</td>\n",
              "      <td>0</td>\n",
              "      <td>7.2250</td>\n",
              "      <td>C</td>\n",
              "      <td>Mr</td>\n",
              "    </tr>\n",
              "    <tr>\n",
              "      <th>28</th>\n",
              "      <td>3</td>\n",
              "      <td>O'Dwyer, Miss. Ellen \"Nellie\"</td>\n",
              "      <td>female</td>\n",
              "      <td>0.0</td>\n",
              "      <td>0</td>\n",
              "      <td>0</td>\n",
              "      <td>7.8792</td>\n",
              "      <td>Q</td>\n",
              "      <td>Miss</td>\n",
              "    </tr>\n",
              "  </tbody>\n",
              "</table>\n",
              "</div>"
            ],
            "text/plain": [
              "    Pclass                           Name     Sex  ...     Fare  Embarked  Salutation\n",
              "5        3               Moran, Mr. James    male  ...   8.4583         Q          Mr\n",
              "17       2   Williams, Mr. Charles Eugene    male  ...  13.0000         S          Mr\n",
              "19       3        Masselmani, Mrs. Fatima  female  ...   7.2250         C         Mrs\n",
              "26       3        Emir, Mr. Farred Chehab    male  ...   7.2250         C          Mr\n",
              "28       3  O'Dwyer, Miss. Ellen \"Nellie\"  female  ...   7.8792         Q        Miss\n",
              "\n",
              "[5 rows x 9 columns]"
            ]
          },
          "metadata": {
            "tags": []
          },
          "execution_count": 12
        }
      ]
    },
    {
      "cell_type": "code",
      "metadata": {
        "id": "Oyn8xoXGqyYv"
      },
      "source": [
        "X['Salutation'] = X['Name'].str.extract(r\"(Ms|Miss|Mrs|Mme|Mlle|Mr|Master|Major|Rev|Col|Capt|Don|Dr)\")"
      ],
      "execution_count": 13,
      "outputs": []
    },
    {
      "cell_type": "code",
      "metadata": {
        "id": "IvUSQAEtqyYy",
        "outputId": "80541a9e-4ad9-471a-c974-90fbda1d9079",
        "colab": {
          "base_uri": "https://localhost:8080/",
          "height": 256
        }
      },
      "source": [
        "print (np.mean(X.loc[(X['Sex'] == 'female') & (X['Salutation'] == 'Mme'), 'Age']))\n",
        "print (np.mean(X.loc[(X['Sex'] == 'female') & (X['Salutation'] == 'Miss') , 'Age']))\n",
        "print (np.mean(X.loc[(X['Sex'] == 'female') & (X['Salutation'] == 'Ms'), 'Age']))\n",
        "print (np.mean(X.loc[(X['Sex'] == 'female') & (X['Salutation'] == 'Mrs'), 'Age']))\n",
        "print (np.mean(X.loc[(X['Sex'] == 'female') & (X['Salutation'] == 'Mlle'), 'Age']))\n",
        "\n",
        "print ()\n",
        "print (np.mean(X.loc[(X['Sex'] == 'male') & (X['Salutation'] == 'Master'), 'Age']))\n",
        "print (np.mean(X.loc[(X['Sex'] == 'male') & (X['Salutation'] == 'Mr'), 'Age']))\n",
        "print (np.mean(X.loc[(X['Sex'] == 'male') & (X['Salutation'] == 'Major'), 'Age']))\n",
        "print (np.mean(X.loc[(X['Sex'] == 'male') & (X['Salutation'] == 'Rev'), 'Age']))\n",
        "print (np.mean(X.loc[(X['Sex'] == 'male') & (X['Salutation'] == 'Col'), 'Age']))\n",
        "print (np.mean(X.loc[(X['Sex'] == 'male') & (X['Salutation'] == 'Capt'), 'Age']))\n",
        "print (np.mean(X.loc[(X['Sex'] == 'male') & (X['Salutation'] == 'Don'), 'Age']))\n",
        "print (np.mean(X.loc[(X['Sex'] == 'male') & (X['Salutation'] == 'Dr'), 'Age']))\n"
      ],
      "execution_count": 14,
      "outputs": [
        {
          "output_type": "stream",
          "text": [
            "24.0\n",
            "21.868965517241378\n",
            "28.0\n",
            "36.074766355140184\n",
            "24.0\n",
            "\n",
            "4.574166666666667\n",
            "32.40688775510204\n",
            "48.5\n",
            "43.166666666666664\n",
            "38.875\n",
            "70.0\n",
            "40.0\n",
            "39.333333333333336\n"
          ],
          "name": "stdout"
        }
      ]
    },
    {
      "cell_type": "code",
      "metadata": {
        "id": "Tx8vgUAoqyY1"
      },
      "source": [
        "'''\n",
        "Fem_Salut = ['Ms','Miss','Mrs','Mme','Mlle']\n",
        "Male_Salut = ['Mr','Master','Major','Rev','Col','Capt','Don','Dr']\n",
        "'''\n",
        "\n",
        "mis_age.loc[(mis_age['Sex']=='female') & (mis_age['Salutation'] == 'Mme'), 'Age'] = 24.0\n",
        "mis_age.loc[(mis_age['Sex']=='female') & (mis_age['Salutation'] == 'Miss'), 'Age'] = 21.0\n",
        "mis_age.loc[(mis_age['Sex']=='female') & (mis_age['Salutation'] == 'Ms'), 'Age'] = 28.0                                                  \n",
        "mis_age.loc[(mis_age['Sex']=='female') & (mis_age['Salutation'] == 'Mrs'), 'Age'] = 36.0   \n",
        "mis_age.loc[(mis_age['Sex']=='female') & (mis_age['Salutation'] == 'Mlle'), 'Age'] = 24.0                                                  \n",
        "                                                  \n",
        "mis_age.loc[(mis_age['Sex']=='female') & (mis_age['Salutation'] == 'Master'), 'Age'] = 4.0\n",
        "mis_age.loc[(mis_age['Sex']=='female') & (mis_age['Salutation'] == 'Mr'), 'Age'] = 32.0                                                  \n",
        "mis_age.loc[(mis_age['Sex']=='female') & (mis_age['Salutation'] == 'Major'), 'Age'] = 48.0\n",
        "mis_age.loc[(mis_age['Sex']=='female') & (mis_age['Salutation'] == 'Rev'), 'Age'] = 43.0\n",
        "mis_age.loc[(mis_age['Sex']=='female') & (mis_age['Salutation'] == 'Col'), 'Age'] = 38.0                                                  \n",
        "mis_age.loc[(mis_age['Sex']=='female') & (mis_age['Salutation'] == 'Capt'), 'Age'] = 70.0                                                  \n",
        "mis_age.loc[(mis_age['Sex']=='female') & (mis_age['Salutation'] == 'Don'), 'Age'] = 40.0                                                  \n",
        "mis_age.loc[(mis_age['Sex']=='female') & (mis_age['Salutation'] == 'Dr'), 'Age'] = 39.0                                                  "
      ],
      "execution_count": 15,
      "outputs": []
    },
    {
      "cell_type": "code",
      "metadata": {
        "id": "IY9YbzgSqyY4"
      },
      "source": [
        "X.loc[X['Age'].isna(), 'Age'] = mis_age['Age']"
      ],
      "execution_count": 16,
      "outputs": []
    },
    {
      "cell_type": "markdown",
      "metadata": {
        "id": "yBcgTDuOqyY7"
      },
      "source": [
        "**Hamdling Embarked - Missing values**"
      ]
    },
    {
      "cell_type": "code",
      "metadata": {
        "id": "zB60Rui3qyY7",
        "outputId": "987e67b8-ee29-4f70-ce3b-6dd3368ce57e",
        "colab": {
          "base_uri": "https://localhost:8080/",
          "height": 282
        }
      },
      "source": [
        "X['Embarked'].hist()"
      ],
      "execution_count": 17,
      "outputs": [
        {
          "output_type": "execute_result",
          "data": {
            "text/plain": [
              "<matplotlib.axes._subplots.AxesSubplot at 0x7f6959294cf8>"
            ]
          },
          "metadata": {
            "tags": []
          },
          "execution_count": 17
        },
        {
          "output_type": "display_data",
          "data": {
            "image/png": "[encoded data removed]",
            "text/plain": [
              "<Figure size 432x288 with 1 Axes>"
            ]
          },
          "metadata": {
            "tags": [],
            "needs_background": "light"
          }
        }
      ]
    },
    {
      "cell_type": "code",
      "metadata": {
        "id": "cnJP5lu7qyY-",
        "outputId": "35b2d9ff-e153-4875-cb8c-cadfbbfc61af",
        "colab": {
          "base_uri": "https://localhost:8080/",
          "height": 154
        }
      },
      "source": [
        "X.loc[X['Embarked'].isna(), 'Embarked'] = 'S'\n",
        "\n",
        "X.drop(columns = ['Name', 'Salutation'], inplace = True)\n",
        "X.isna().sum()"
      ],
      "execution_count": 18,
      "outputs": [
        {
          "output_type": "execute_result",
          "data": {
            "text/plain": [
              "Pclass      0\n",
              "Sex         0\n",
              "Age         0\n",
              "SibSp       0\n",
              "Parch       0\n",
              "Fare        0\n",
              "Embarked    0\n",
              "dtype: int64"
            ]
          },
          "metadata": {
            "tags": []
          },
          "execution_count": 18
        }
      ]
    },
    {
      "cell_type": "markdown",
      "metadata": {
        "id": "byeovy_kqyZB"
      },
      "source": [
        "## Categorical Encoding"
      ]
    },
    {
      "cell_type": "markdown",
      "metadata": {
        "id": "FZKgie1gqyZB"
      },
      "source": [
        "**Encoding Categorical Features - Pclass, Sex, Embarked**"
      ]
    },
    {
      "cell_type": "code",
      "metadata": {
        "id": "iN2akRWDqyZC",
        "outputId": "a6c3d448-911d-4d44-9f9e-b4947f6fe4b3",
        "colab": {
          "base_uri": "https://localhost:8080/",
          "height": 199
        }
      },
      "source": [
        "X = pd.get_dummies(X, columns = ['Pclass', 'Sex', 'Embarked'])\n",
        "X.head()"
      ],
      "execution_count": 19,
      "outputs": [
        {
          "output_type": "execute_result",
          "data": {
            "text/html": [
              "<div>\n",
              "<style scoped>\n",
              "    .dataframe tbody tr th:only-of-type {\n",
              "        vertical-align: middle;\n",
              "    }\n",
              "\n",
              "    .dataframe tbody tr th {\n",
              "        vertical-align: top;\n",
              "    }\n",
              "\n",
              "    .dataframe thead th {\n",
              "        text-align: right;\n",
              "    }\n",
              "</style>\n",
              "<table border=\"1\" class=\"dataframe\">\n",
              "  <thead>\n",
              "    <tr style=\"text-align: right;\">\n",
              "      <th></th>\n",
              "      <th>Age</th>\n",
              "      <th>SibSp</th>\n",
              "      <th>Parch</th>\n",
              "      <th>Fare</th>\n",
              "      <th>Pclass_1</th>\n",
              "      <th>Pclass_2</th>\n",
              "      <th>Pclass_3</th>\n",
              "      <th>Sex_female</th>\n",
              "      <th>Sex_male</th>\n",
              "      <th>Embarked_C</th>\n",
              "      <th>Embarked_Q</th>\n",
              "      <th>Embarked_S</th>\n",
              "    </tr>\n",
              "  </thead>\n",
              "  <tbody>\n",
              "    <tr>\n",
              "      <th>0</th>\n",
              "      <td>22.0</td>\n",
              "      <td>1</td>\n",
              "      <td>0</td>\n",
              "      <td>7.2500</td>\n",
              "      <td>0</td>\n",
              "      <td>0</td>\n",
              "      <td>1</td>\n",
              "      <td>0</td>\n",
              "      <td>1</td>\n",
              "      <td>0</td>\n",
              "      <td>0</td>\n",
              "      <td>1</td>\n",
              "    </tr>\n",
              "    <tr>\n",
              "      <th>1</th>\n",
              "      <td>38.0</td>\n",
              "      <td>1</td>\n",
              "      <td>0</td>\n",
              "      <td>71.2833</td>\n",
              "      <td>1</td>\n",
              "      <td>0</td>\n",
              "      <td>0</td>\n",
              "      <td>1</td>\n",
              "      <td>0</td>\n",
              "      <td>1</td>\n",
              "      <td>0</td>\n",
              "      <td>0</td>\n",
              "    </tr>\n",
              "    <tr>\n",
              "      <th>2</th>\n",
              "      <td>26.0</td>\n",
              "      <td>0</td>\n",
              "      <td>0</td>\n",
              "      <td>7.9250</td>\n",
              "      <td>0</td>\n",
              "      <td>0</td>\n",
              "      <td>1</td>\n",
              "      <td>1</td>\n",
              "      <td>0</td>\n",
              "      <td>0</td>\n",
              "      <td>0</td>\n",
              "      <td>1</td>\n",
              "    </tr>\n",
              "    <tr>\n",
              "      <th>3</th>\n",
              "      <td>35.0</td>\n",
              "      <td>1</td>\n",
              "      <td>0</td>\n",
              "      <td>53.1000</td>\n",
              "      <td>1</td>\n",
              "      <td>0</td>\n",
              "      <td>0</td>\n",
              "      <td>1</td>\n",
              "      <td>0</td>\n",
              "      <td>0</td>\n",
              "      <td>0</td>\n",
              "      <td>1</td>\n",
              "    </tr>\n",
              "    <tr>\n",
              "      <th>4</th>\n",
              "      <td>35.0</td>\n",
              "      <td>0</td>\n",
              "      <td>0</td>\n",
              "      <td>8.0500</td>\n",
              "      <td>0</td>\n",
              "      <td>0</td>\n",
              "      <td>1</td>\n",
              "      <td>0</td>\n",
              "      <td>1</td>\n",
              "      <td>0</td>\n",
              "      <td>0</td>\n",
              "      <td>1</td>\n",
              "    </tr>\n",
              "  </tbody>\n",
              "</table>\n",
              "</div>"
            ],
            "text/plain": [
              "    Age  SibSp  Parch     Fare  ...  Sex_male  Embarked_C  Embarked_Q  Embarked_S\n",
              "0  22.0      1      0   7.2500  ...         1           0           0           1\n",
              "1  38.0      1      0  71.2833  ...         0           1           0           0\n",
              "2  26.0      0      0   7.9250  ...         0           0           0           1\n",
              "3  35.0      1      0  53.1000  ...         0           0           0           1\n",
              "4  35.0      0      0   8.0500  ...         1           0           0           1\n",
              "\n",
              "[5 rows x 12 columns]"
            ]
          },
          "metadata": {
            "tags": []
          },
          "execution_count": 19
        }
      ]
    },
    {
      "cell_type": "markdown",
      "metadata": {
        "id": "nUfyzsAQuP4e"
      },
      "source": [
        "## Part - 3"
      ]
    },
    {
      "cell_type": "markdown",
      "metadata": {
        "id": "hm7gtId7qyZF"
      },
      "source": [
        "## Building Model"
      ]
    },
    {
      "cell_type": "code",
      "metadata": {
        "id": "4M8yK4PwqyZG",
        "outputId": "c8c66055-fce2-4ae1-965f-b5e2053f414f",
        "colab": {
          "base_uri": "https://localhost:8080/",
          "height": 119
        }
      },
      "source": [
        "from sklearn.tree import DecisionTreeClassifier, plot_tree\n",
        "\n",
        "X_train, X_test, y_train, y_test = train_test_split(X, y, random_state = 32, test_size = 0.2)\n",
        "model = DecisionTreeClassifier()\n",
        "model.fit(X_train, y_train)\n"
      ],
      "execution_count": 20,
      "outputs": [
        {
          "output_type": "execute_result",
          "data": {
            "text/plain": [
              "DecisionTreeClassifier(ccp_alpha=0.0, class_weight=None, criterion='gini',\n",
              "                       max_depth=None, max_features=None, max_leaf_nodes=None,\n",
              "                       min_impurity_decrease=0.0, min_impurity_split=None,\n",
              "                       min_samples_leaf=1, min_samples_split=2,\n",
              "                       min_weight_fraction_leaf=0.0, presort='deprecated',\n",
              "                       random_state=None, splitter='best')"
            ]
          },
          "metadata": {
            "tags": []
          },
          "execution_count": 20
        }
      ]
    },
    {
      "cell_type": "code",
      "metadata": {
        "id": "7OYK6eDLqyZI",
        "outputId": "57d763f8-b568-4b30-f1a7-ee268ba54ab6",
        "colab": {
          "base_uri": "https://localhost:8080/",
          "height": 1000
        }
      },
      "source": [
        "plot_tree(model, filled = True, rounded = True, class_names = ['Survived', 'Died'], feature_names=X.columns)"
      ],
      "execution_count": 21,
      "outputs": [
        {
          "output_type": "execute_result",
          "data": {
            "text/plain": [
              "[Text(222.68085451244812, 211.7178947368421, 'Sex_female <= 0.5\\ngini = 0.471\\nsamples = 712\\nvalue = [441, 271]\\nclass = Survived'),\n",
              " Text(172.0343231327801, 200.2736842105263, 'Fare <= 26.269\\ngini = 0.304\\nsamples = 460\\nvalue = [374, 86]\\nclass = Survived'),\n",
              " Text(124.57321058091286, 188.82947368421054, 'Parch <= 0.5\\ngini = 0.228\\nsamples = 336\\nvalue = [292, 44]\\nclass = Survived'),\n",
              " Text(89.38708506224066, 177.38526315789474, 'Embarked_C <= 0.5\\ngini = 0.182\\nsamples = 306\\nvalue = [275, 31]\\nclass = Survived'),\n",
              " Text(35.6853734439834, 165.94105263157894, 'Fare <= 7.746\\ngini = 0.165\\nsamples = 275\\nvalue = [250, 25]\\nclass = Survived'),\n",
              " Text(5.556846473029045, 154.49684210526317, 'Age <= 23.0\\ngini = 0.069\\nsamples = 56\\nvalue = [54, 2]\\nclass = Survived'),\n",
              " Text(2.7784232365145227, 143.05263157894737, 'gini = 0.0\\nsamples = 29\\nvalue = [29, 0]\\nclass = Survived'),\n",
              " Text(8.335269709543567, 143.05263157894737, 'Age <= 27.0\\ngini = 0.137\\nsamples = 27\\nvalue = [25, 2]\\nclass = Survived'),\n",
              " Text(5.556846473029045, 131.60842105263157, 'Fare <= 3.525\\ngini = 0.375\\nsamples = 8\\nvalue = [6, 2]\\nclass = Survived'),\n",
              " Text(2.7784232365145227, 120.16421052631578, 'gini = 0.0\\nsamples = 1\\nvalue = [0, 1]\\nclass = Died'),\n",
              " Text(8.335269709543567, 120.16421052631578, 'Age <= 24.5\\ngini = 0.245\\nsamples = 7\\nvalue = [6, 1]\\nclass = Survived'),\n",
              " Text(5.556846473029045, 108.72, 'Fare <= 7.096\\ngini = 0.444\\nsamples = 3\\nvalue = [2, 1]\\nclass = Survived'),\n",
              " Text(2.7784232365145227, 97.27578947368421, 'gini = 0.0\\nsamples = 1\\nvalue = [1, 0]\\nclass = Survived'),\n",
              " Text(8.335269709543567, 97.27578947368421, 'Fare <= 7.319\\ngini = 0.5\\nsamples = 2\\nvalue = [1, 1]\\nclass = Survived'),\n",
              " Text(5.556846473029045, 85.83157894736843, 'gini = 0.0\\nsamples = 1\\nvalue = [0, 1]\\nclass = Died'),\n",
              " Text(11.11369294605809, 85.83157894736843, 'gini = 0.0\\nsamples = 1\\nvalue = [1, 0]\\nclass = Survived'),\n",
              " Text(11.11369294605809, 108.72, 'gini = 0.0\\nsamples = 4\\nvalue = [4, 0]\\nclass = Survived'),\n",
              " Text(11.11369294605809, 131.60842105263157, 'gini = 0.0\\nsamples = 19\\nvalue = [19, 0]\\nclass = Survived'),\n",
              " Text(65.81390041493776, 154.49684210526317, 'Fare <= 7.812\\ngini = 0.188\\nsamples = 219\\nvalue = [196, 23]\\nclass = Survived'),\n",
              " Text(37.50871369294606, 143.05263157894737, 'Age <= 30.0\\ngini = 0.305\\nsamples = 32\\nvalue = [26, 6]\\nclass = Survived'),\n",
              " Text(34.73029045643153, 131.60842105263157, 'Age <= 24.5\\ngini = 0.375\\nsamples = 24\\nvalue = [18, 6]\\nclass = Survived'),\n",
              " Text(27.78423236514523, 120.16421052631578, 'Age <= 21.5\\ngini = 0.291\\nsamples = 17\\nvalue = [14, 3]\\nclass = Survived'),\n",
              " Text(25.005809128630705, 108.72, 'Age <= 20.0\\ngini = 0.32\\nsamples = 15\\nvalue = [12, 3]\\nclass = Survived'),\n",
              " Text(19.448962655601658, 97.27578947368421, 'Age <= 9.0\\ngini = 0.26\\nsamples = 13\\nvalue = [11, 2]\\nclass = Survived'),\n",
              " Text(16.670539419087135, 85.83157894736843, 'Embarked_S <= 0.5\\ngini = 0.346\\nsamples = 9\\nvalue = [7, 2]\\nclass = Survived'),\n",
              " Text(13.892116182572614, 74.38736842105263, 'SibSp <= 0.5\\ngini = 0.245\\nsamples = 7\\nvalue = [6, 1]\\nclass = Survived'),\n",
              " Text(11.11369294605809, 62.943157894736856, 'gini = 0.278\\nsamples = 6\\nvalue = [5, 1]\\nclass = Survived'),\n",
              " Text(16.670539419087135, 62.943157894736856, 'gini = 0.0\\nsamples = 1\\nvalue = [1, 0]\\nclass = Survived'),\n",
              " Text(19.448962655601658, 74.38736842105263, 'gini = 0.5\\nsamples = 2\\nvalue = [1, 1]\\nclass = Survived'),\n",
              " Text(22.22738589211618, 85.83157894736843, 'gini = 0.0\\nsamples = 4\\nvalue = [4, 0]\\nclass = Survived'),\n",
              " Text(30.56265560165975, 97.27578947368421, 'Fare <= 7.785\\ngini = 0.5\\nsamples = 2\\nvalue = [1, 1]\\nclass = Survived'),\n",
              " Text(27.78423236514523, 85.83157894736843, 'gini = 0.0\\nsamples = 1\\nvalue = [1, 0]\\nclass = Survived'),\n",
              " Text(33.34107883817427, 85.83157894736843, 'gini = 0.0\\nsamples = 1\\nvalue = [0, 1]\\nclass = Died'),\n",
              " Text(30.56265560165975, 108.72, 'gini = 0.0\\nsamples = 2\\nvalue = [2, 0]\\nclass = Survived'),\n",
              " Text(41.67634854771784, 120.16421052631578, 'Embarked_S <= 0.5\\ngini = 0.49\\nsamples = 7\\nvalue = [4, 3]\\nclass = Survived'),\n",
              " Text(38.897925311203316, 108.72, 'gini = 0.0\\nsamples = 1\\nvalue = [0, 1]\\nclass = Died'),\n",
              " Text(44.45477178423236, 108.72, 'Age <= 27.5\\ngini = 0.444\\nsamples = 6\\nvalue = [4, 2]\\nclass = Survived'),\n",
              " Text(41.67634854771784, 97.27578947368421, 'Fare <= 7.785\\ngini = 0.5\\nsamples = 4\\nvalue = [2, 2]\\nclass = Survived'),\n",
              " Text(38.897925311203316, 85.83157894736843, 'Age <= 25.5\\ngini = 0.444\\nsamples = 3\\nvalue = [2, 1]\\nclass = Survived'),\n",
              " Text(36.119502074688796, 74.38736842105263, 'gini = 0.5\\nsamples = 2\\nvalue = [1, 1]\\nclass = Survived'),\n",
              " Text(41.67634854771784, 74.38736842105263, 'gini = 0.0\\nsamples = 1\\nvalue = [1, 0]\\nclass = Survived'),\n",
              " Text(44.45477178423236, 85.83157894736843, 'gini = 0.0\\nsamples = 1\\nvalue = [0, 1]\\nclass = Died'),\n",
              " Text(47.233195020746884, 97.27578947368421, 'gini = 0.0\\nsamples = 2\\nvalue = [2, 0]\\nclass = Survived'),\n",
              " Text(40.28713692946058, 131.60842105263157, 'gini = 0.0\\nsamples = 8\\nvalue = [8, 0]\\nclass = Survived'),\n",
              " Text(94.11908713692945, 143.05263157894737, 'Age <= 29.5\\ngini = 0.165\\nsamples = 187\\nvalue = [170, 17]\\nclass = Survived'),\n",
              " Text(77.101244813278, 131.60842105263157, 'SibSp <= 1.5\\ngini = 0.101\\nsamples = 112\\nvalue = [106, 6]\\nclass = Survived'),\n",
              " Text(71.54439834024896, 120.16421052631578, 'Fare <= 11.0\\ngini = 0.088\\nsamples = 108\\nvalue = [103, 5]\\nclass = Survived'),\n",
              " Text(68.76597510373443, 108.72, 'SibSp <= 0.5\\ngini = 0.121\\nsamples = 77\\nvalue = [72, 5]\\nclass = Survived'),\n",
              " Text(59.73609958506224, 97.27578947368421, 'Fare <= 8.081\\ngini = 0.101\\nsamples = 75\\nvalue = [71, 4]\\nclass = Survived'),\n",
              " Text(50.01161825726141, 85.83157894736843, 'Fare <= 7.988\\ngini = 0.04\\nsamples = 49\\nvalue = [48, 1]\\nclass = Survived'),\n",
              " Text(47.233195020746884, 74.38736842105263, 'gini = 0.0\\nsamples = 30\\nvalue = [30, 0]\\nclass = Survived'),\n",
              " Text(52.79004149377593, 74.38736842105263, 'Age <= 17.0\\ngini = 0.1\\nsamples = 19\\nvalue = [18, 1]\\nclass = Survived'),\n",
              " Text(50.01161825726141, 62.943157894736856, 'gini = 0.0\\nsamples = 12\\nvalue = [12, 0]\\nclass = Survived'),\n",
              " Text(55.56846473029046, 62.943157894736856, 'Age <= 18.5\\ngini = 0.245\\nsamples = 7\\nvalue = [6, 1]\\nclass = Survived'),\n",
              " Text(52.79004149377593, 51.49894736842106, 'gini = 0.0\\nsamples = 1\\nvalue = [0, 1]\\nclass = Died'),\n",
              " Text(58.34688796680498, 51.49894736842106, 'gini = 0.0\\nsamples = 6\\nvalue = [6, 0]\\nclass = Survived'),\n",
              " Text(69.46058091286307, 85.83157894736843, 'Fare <= 8.135\\ngini = 0.204\\nsamples = 26\\nvalue = [23, 3]\\nclass = Survived'),\n",
              " Text(66.68215767634854, 74.38736842105263, 'gini = 0.0\\nsamples = 1\\nvalue = [0, 1]\\nclass = Died'),\n",
              " Text(72.23900414937759, 74.38736842105263, 'Age <= 25.5\\ngini = 0.147\\nsamples = 25\\nvalue = [23, 2]\\nclass = Survived'),\n",
              " Text(66.68215767634854, 62.943157894736856, 'Pclass_2 <= 0.5\\ngini = 0.091\\nsamples = 21\\nvalue = [20, 1]\\nclass = Survived'),\n",
              " Text(63.903734439834025, 51.49894736842106, 'gini = 0.0\\nsamples = 16\\nvalue = [16, 0]\\nclass = Survived'),\n",
              " Text(69.46058091286307, 51.49894736842106, 'Age <= 21.0\\ngini = 0.32\\nsamples = 5\\nvalue = [4, 1]\\nclass = Survived'),\n",
              " Text(66.68215767634854, 40.05473684210526, 'Age <= 17.5\\ngini = 0.444\\nsamples = 3\\nvalue = [2, 1]\\nclass = Survived'),\n",
              " Text(63.903734439834025, 28.610526315789485, 'gini = 0.0\\nsamples = 1\\nvalue = [1, 0]\\nclass = Survived'),\n",
              " Text(69.46058091286307, 28.610526315789485, 'gini = 0.5\\nsamples = 2\\nvalue = [1, 1]\\nclass = Survived'),\n",
              " Text(72.23900414937759, 40.05473684210526, 'gini = 0.0\\nsamples = 2\\nvalue = [2, 0]\\nclass = Survived'),\n",
              " Text(77.79585062240663, 62.943157894736856, 'Age <= 27.5\\ngini = 0.375\\nsamples = 4\\nvalue = [3, 1]\\nclass = Survived'),\n",
              " Text(75.01742738589212, 51.49894736842106, 'gini = 0.0\\nsamples = 1\\nvalue = [0, 1]\\nclass = Died'),\n",
              " Text(80.57427385892116, 51.49894736842106, 'gini = 0.0\\nsamples = 3\\nvalue = [3, 0]\\nclass = Survived'),\n",
              " Text(77.79585062240663, 97.27578947368421, 'Fare <= 7.89\\ngini = 0.5\\nsamples = 2\\nvalue = [1, 1]\\nclass = Survived'),\n",
              " Text(75.01742738589212, 85.83157894736843, 'gini = 0.0\\nsamples = 1\\nvalue = [1, 0]\\nclass = Survived'),\n",
              " Text(80.57427385892116, 85.83157894736843, 'gini = 0.0\\nsamples = 1\\nvalue = [0, 1]\\nclass = Died'),\n",
              " Text(74.32282157676349, 108.72, 'gini = 0.0\\nsamples = 31\\nvalue = [31, 0]\\nclass = Survived'),\n",
              " Text(82.65809128630706, 120.16421052631578, 'Fare <= 20.625\\ngini = 0.375\\nsamples = 4\\nvalue = [3, 1]\\nclass = Survived'),\n",
              " Text(79.87966804979253, 108.72, 'gini = 0.0\\nsamples = 3\\nvalue = [3, 0]\\nclass = Survived'),\n",
              " Text(85.43651452282157, 108.72, 'gini = 0.0\\nsamples = 1\\nvalue = [0, 1]\\nclass = Died'),\n",
              " Text(111.13692946058092, 131.60842105263157, 'Fare <= 7.988\\ngini = 0.25\\nsamples = 75\\nvalue = [64, 11]\\nclass = Survived'),\n",
              " Text(97.2448132780083, 120.16421052631578, 'Fare <= 7.91\\ngini = 0.426\\nsamples = 13\\nvalue = [9, 4]\\nclass = Survived'),\n",
              " Text(91.68796680497925, 108.72, 'Fare <= 7.875\\ngini = 0.278\\nsamples = 6\\nvalue = [5, 1]\\nclass = Survived'),\n",
              " Text(88.90954356846473, 97.27578947368421, 'Age <= 40.0\\ngini = 0.5\\nsamples = 2\\nvalue = [1, 1]\\nclass = Survived'),\n",
              " Text(86.1311203319502, 85.83157894736843, 'gini = 0.0\\nsamples = 1\\nvalue = [0, 1]\\nclass = Died'),\n",
              " Text(91.68796680497925, 85.83157894736843, 'gini = 0.0\\nsamples = 1\\nvalue = [1, 0]\\nclass = Survived'),\n",
              " Text(94.46639004149377, 97.27578947368421, 'gini = 0.0\\nsamples = 4\\nvalue = [4, 0]\\nclass = Survived'),\n",
              " Text(102.80165975103733, 108.72, 'Age <= 41.5\\ngini = 0.49\\nsamples = 7\\nvalue = [4, 3]\\nclass = Survived'),\n",
              " Text(100.02323651452282, 97.27578947368421, 'SibSp <= 1.0\\ngini = 0.444\\nsamples = 6\\nvalue = [4, 2]\\nclass = Survived'),\n",
              " Text(97.2448132780083, 85.83157894736843, 'Age <= 35.5\\ngini = 0.48\\nsamples = 5\\nvalue = [3, 2]\\nclass = Survived'),\n",
              " Text(94.46639004149377, 74.38736842105263, 'gini = 0.444\\nsamples = 3\\nvalue = [2, 1]\\nclass = Survived'),\n",
              " Text(100.02323651452282, 74.38736842105263, 'gini = 0.5\\nsamples = 2\\nvalue = [1, 1]\\nclass = Survived'),\n",
              " Text(102.80165975103733, 85.83157894736843, 'gini = 0.0\\nsamples = 1\\nvalue = [1, 0]\\nclass = Survived'),\n",
              " Text(105.58008298755186, 97.27578947368421, 'gini = 0.0\\nsamples = 1\\nvalue = [0, 1]\\nclass = Died'),\n",
              " Text(125.02904564315352, 120.16421052631578, 'Age <= 32.5\\ngini = 0.2\\nsamples = 62\\nvalue = [55, 7]\\nclass = Survived'),\n",
              " Text(113.91535269709543, 108.72, 'Fare <= 21.05\\ngini = 0.337\\nsamples = 14\\nvalue = [11, 3]\\nclass = Survived'),\n",
              " Text(111.13692946058092, 97.27578947368421, 'Fare <= 10.0\\ngini = 0.26\\nsamples = 13\\nvalue = [11, 2]\\nclass = Survived'),\n",
              " Text(108.35850622406639, 85.83157894736843, 'Fare <= 8.931\\ngini = 0.48\\nsamples = 5\\nvalue = [3, 2]\\nclass = Survived'),\n",
              " Text(105.58008298755186, 74.38736842105263, 'Age <= 31.0\\ngini = 0.375\\nsamples = 4\\nvalue = [3, 1]\\nclass = Survived'),\n",
              " Text(102.80165975103733, 62.943157894736856, 'gini = 0.0\\nsamples = 2\\nvalue = [2, 0]\\nclass = Survived'),\n",
              " Text(108.35850622406639, 62.943157894736856, 'Fare <= 8.206\\ngini = 0.5\\nsamples = 2\\nvalue = [1, 1]\\nclass = Survived'),\n",
              " Text(105.58008298755186, 51.49894736842106, 'gini = 0.0\\nsamples = 1\\nvalue = [0, 1]\\nclass = Died'),\n",
              " Text(111.13692946058092, 51.49894736842106, 'gini = 0.0\\nsamples = 1\\nvalue = [1, 0]\\nclass = Survived'),\n",
              " Text(111.13692946058092, 74.38736842105263, 'gini = 0.0\\nsamples = 1\\nvalue = [0, 1]\\nclass = Died'),\n",
              " Text(113.91535269709543, 85.83157894736843, 'gini = 0.0\\nsamples = 8\\nvalue = [8, 0]\\nclass = Survived'),\n",
              " Text(116.69377593360996, 97.27578947368421, 'gini = 0.0\\nsamples = 1\\nvalue = [0, 1]\\nclass = Died'),\n",
              " Text(136.1427385892116, 108.72, 'Fare <= 13.25\\ngini = 0.153\\nsamples = 48\\nvalue = [44, 4]\\nclass = Survived'),\n",
              " Text(133.36431535269708, 97.27578947368421, 'Age <= 59.5\\ngini = 0.219\\nsamples = 32\\nvalue = [28, 4]\\nclass = Survived'),\n",
              " Text(125.02904564315352, 85.83157894736843, 'Fare <= 12.762\\ngini = 0.185\\nsamples = 29\\nvalue = [26, 3]\\nclass = Survived'),\n",
              " Text(116.69377593360996, 74.38736842105263, 'Age <= 44.5\\ngini = 0.1\\nsamples = 19\\nvalue = [18, 1]\\nclass = Survived'),\n",
              " Text(113.91535269709543, 62.943157894736856, 'gini = 0.0\\nsamples = 13\\nvalue = [13, 0]\\nclass = Survived'),\n",
              " Text(119.47219917012448, 62.943157894736856, 'Age <= 46.0\\ngini = 0.278\\nsamples = 6\\nvalue = [5, 1]\\nclass = Survived'),\n",
              " Text(116.69377593360996, 51.49894736842106, 'gini = 0.0\\nsamples = 1\\nvalue = [0, 1]\\nclass = Died'),\n",
              " Text(122.250622406639, 51.49894736842106, 'gini = 0.0\\nsamples = 5\\nvalue = [5, 0]\\nclass = Survived'),\n",
              " Text(133.36431535269708, 74.38736842105263, 'Age <= 45.0\\ngini = 0.32\\nsamples = 10\\nvalue = [8, 2]\\nclass = Survived'),\n",
              " Text(130.58589211618258, 62.943157894736856, 'Age <= 40.5\\ngini = 0.408\\nsamples = 7\\nvalue = [5, 2]\\nclass = Survived'),\n",
              " Text(127.80746887966805, 51.49894736842106, 'Age <= 35.0\\ngini = 0.278\\nsamples = 6\\nvalue = [5, 1]\\nclass = Survived'),\n",
              " Text(125.02904564315352, 40.05473684210526, 'gini = 0.444\\nsamples = 3\\nvalue = [2, 1]\\nclass = Survived'),\n",
              " Text(130.58589211618258, 40.05473684210526, 'gini = 0.0\\nsamples = 3\\nvalue = [3, 0]\\nclass = Survived'),\n",
              " Text(133.36431535269708, 51.49894736842106, 'gini = 0.0\\nsamples = 1\\nvalue = [0, 1]\\nclass = Died'),\n",
              " Text(136.1427385892116, 62.943157894736856, 'gini = 0.0\\nsamples = 3\\nvalue = [3, 0]\\nclass = Survived'),\n",
              " Text(141.69958506224066, 85.83157894736843, 'Age <= 64.0\\ngini = 0.444\\nsamples = 3\\nvalue = [2, 1]\\nclass = Survived'),\n",
              " Text(138.92116182572613, 74.38736842105263, 'gini = 0.0\\nsamples = 1\\nvalue = [0, 1]\\nclass = Died'),\n",
              " Text(144.47800829875519, 74.38736842105263, 'gini = 0.0\\nsamples = 2\\nvalue = [2, 0]\\nclass = Survived'),\n",
              " Text(138.92116182572613, 97.27578947368421, 'gini = 0.0\\nsamples = 16\\nvalue = [16, 0]\\nclass = Survived'),\n",
              " Text(143.08879668049792, 165.94105263157894, 'Age <= 29.5\\ngini = 0.312\\nsamples = 31\\nvalue = [25, 6]\\nclass = Survived'),\n",
              " Text(140.3103734439834, 154.49684210526317, 'Age <= 11.5\\ngini = 0.386\\nsamples = 23\\nvalue = [17, 6]\\nclass = Survived'),\n",
              " Text(130.58589211618258, 143.05263157894737, 'Pclass_2 <= 0.5\\ngini = 0.142\\nsamples = 13\\nvalue = [12, 1]\\nclass = Survived'),\n",
              " Text(127.80746887966805, 131.60842105263157, 'gini = 0.0\\nsamples = 11\\nvalue = [11, 0]\\nclass = Survived'),\n",
              " Text(133.36431535269708, 131.60842105263157, 'Fare <= 14.456\\ngini = 0.5\\nsamples = 2\\nvalue = [1, 1]\\nclass = Survived'),\n",
              " Text(130.58589211618258, 120.16421052631578, 'gini = 0.0\\nsamples = 1\\nvalue = [0, 1]\\nclass = Died'),\n",
              " Text(136.1427385892116, 120.16421052631578, 'gini = 0.0\\nsamples = 1\\nvalue = [1, 0]\\nclass = Survived'),\n",
              " Text(150.03485477178424, 143.05263157894737, 'Age <= 22.5\\ngini = 0.5\\nsamples = 10\\nvalue = [5, 5]\\nclass = Survived'),\n",
              " Text(144.47800829875519, 131.60842105263157, 'Fare <= 5.619\\ngini = 0.375\\nsamples = 4\\nvalue = [1, 3]\\nclass = Died'),\n",
              " Text(141.69958506224066, 120.16421052631578, 'gini = 0.0\\nsamples = 1\\nvalue = [1, 0]\\nclass = Survived'),\n",
              " Text(147.2564315352697, 120.16421052631578, 'gini = 0.0\\nsamples = 3\\nvalue = [0, 3]\\nclass = Died'),\n",
              " Text(155.59170124481327, 131.60842105263157, 'Age <= 28.75\\ngini = 0.444\\nsamples = 6\\nvalue = [4, 2]\\nclass = Survived'),\n",
              " Text(152.81327800829874, 120.16421052631578, 'Fare <= 16.917\\ngini = 0.32\\nsamples = 5\\nvalue = [4, 1]\\nclass = Survived'),\n",
              " Text(150.03485477178424, 108.72, 'gini = 0.0\\nsamples = 4\\nvalue = [4, 0]\\nclass = Survived'),\n",
              " Text(155.59170124481327, 108.72, 'gini = 0.0\\nsamples = 1\\nvalue = [0, 1]\\nclass = Died'),\n",
              " Text(158.3701244813278, 120.16421052631578, 'gini = 0.0\\nsamples = 1\\nvalue = [0, 1]\\nclass = Died'),\n",
              " Text(145.86721991701245, 154.49684210526317, 'gini = 0.0\\nsamples = 8\\nvalue = [8, 0]\\nclass = Survived'),\n",
              " Text(159.75933609958506, 177.38526315789474, 'Age <= 12.0\\ngini = 0.491\\nsamples = 30\\nvalue = [17, 13]\\nclass = Survived'),\n",
              " Text(154.202489626556, 165.94105263157894, 'SibSp <= 2.0\\ngini = 0.245\\nsamples = 14\\nvalue = [2, 12]\\nclass = Died'),\n",
              " Text(151.42406639004147, 154.49684210526317, 'gini = 0.0\\nsamples = 12\\nvalue = [0, 12]\\nclass = Died'),\n",
              " Text(156.98091286307053, 154.49684210526317, 'gini = 0.0\\nsamples = 2\\nvalue = [2, 0]\\nclass = Survived'),\n",
              " Text(165.3161825726141, 165.94105263157894, 'Embarked_S <= 0.5\\ngini = 0.117\\nsamples = 16\\nvalue = [15, 1]\\nclass = Survived'),\n",
              " Text(162.53775933609958, 154.49684210526317, 'Age <= 18.5\\ngini = 0.444\\nsamples = 3\\nvalue = [2, 1]\\nclass = Survived'),\n",
              " Text(159.75933609958506, 143.05263157894737, 'gini = 0.0\\nsamples = 2\\nvalue = [2, 0]\\nclass = Survived'),\n",
              " Text(165.3161825726141, 143.05263157894737, 'gini = 0.0\\nsamples = 1\\nvalue = [0, 1]\\nclass = Died'),\n",
              " Text(168.09460580912864, 154.49684210526317, 'gini = 0.0\\nsamples = 13\\nvalue = [13, 0]\\nclass = Survived'),\n",
              " Text(219.4954356846473, 188.82947368421054, 'SibSp <= 2.5\\ngini = 0.448\\nsamples = 124\\nvalue = [82, 42]\\nclass = Survived'),\n",
              " Text(204.21410788381743, 177.38526315789474, 'Age <= 53.0\\ngini = 0.476\\nsamples = 105\\nvalue = [64, 41]\\nclass = Survived'),\n",
              " Text(187.54356846473027, 165.94105263157894, 'Fare <= 27.135\\ngini = 0.495\\nsamples = 87\\nvalue = [48, 39]\\nclass = Survived'),\n",
              " Text(173.65145228215766, 154.49684210526317, 'Age <= 14.0\\ngini = 0.346\\nsamples = 9\\nvalue = [2, 7]\\nclass = Died'),\n",
              " Text(170.87302904564314, 143.05263157894737, 'gini = 0.0\\nsamples = 1\\nvalue = [1, 0]\\nclass = Survived'),\n",
              " Text(176.4298755186722, 143.05263157894737, 'Age <= 43.5\\ngini = 0.219\\nsamples = 8\\nvalue = [1, 7]\\nclass = Died'),\n",
              " Text(173.65145228215766, 131.60842105263157, 'gini = 0.0\\nsamples = 5\\nvalue = [0, 5]\\nclass = Died'),\n",
              " Text(179.20829875518672, 131.60842105263157, 'Age <= 48.0\\ngini = 0.444\\nsamples = 3\\nvalue = [1, 2]\\nclass = Died'),\n",
              " Text(176.4298755186722, 120.16421052631578, 'gini = 0.5\\nsamples = 2\\nvalue = [1, 1]\\nclass = Survived'),\n",
              " Text(181.98672199170124, 120.16421052631578, 'gini = 0.0\\nsamples = 1\\nvalue = [0, 1]\\nclass = Died'),\n",
              " Text(201.4356846473029, 154.49684210526317, 'Age <= 17.5\\ngini = 0.484\\nsamples = 78\\nvalue = [46, 32]\\nclass = Survived'),\n",
              " Text(193.10041493775933, 143.05263157894737, 'Fare <= 54.248\\ngini = 0.49\\nsamples = 21\\nvalue = [9, 12]\\nclass = Died'),\n",
              " Text(190.3219917012448, 131.60842105263157, 'Pclass_2 <= 0.5\\ngini = 0.492\\nsamples = 16\\nvalue = [9, 7]\\nclass = Survived'),\n",
              " Text(187.54356846473027, 120.16421052631578, 'Fare <= 30.598\\ngini = 0.375\\nsamples = 12\\nvalue = [9, 3]\\nclass = Survived'),\n",
              " Text(181.98672199170124, 108.72, 'Fare <= 28.71\\ngini = 0.5\\nsamples = 4\\nvalue = [2, 2]\\nclass = Survived'),\n",
              " Text(179.20829875518672, 97.27578947368421, 'gini = 0.0\\nsamples = 2\\nvalue = [2, 0]\\nclass = Survived'),\n",
              " Text(184.76514522821577, 97.27578947368421, 'gini = 0.0\\nsamples = 2\\nvalue = [0, 2]\\nclass = Died'),\n",
              " Text(193.10041493775933, 108.72, 'Fare <= 35.25\\ngini = 0.219\\nsamples = 8\\nvalue = [7, 1]\\nclass = Survived'),\n",
              " Text(190.3219917012448, 97.27578947368421, 'gini = 0.0\\nsamples = 4\\nvalue = [4, 0]\\nclass = Survived'),\n",
              " Text(195.87883817427385, 97.27578947368421, 'Fare <= 38.95\\ngini = 0.375\\nsamples = 4\\nvalue = [3, 1]\\nclass = Survived'),\n",
              " Text(193.10041493775933, 85.83157894736843, 'gini = 0.0\\nsamples = 1\\nvalue = [0, 1]\\nclass = Died'),\n",
              " Text(198.65726141078838, 85.83157894736843, 'gini = 0.0\\nsamples = 3\\nvalue = [3, 0]\\nclass = Survived'),\n",
              " Text(193.10041493775933, 120.16421052631578, 'gini = 0.0\\nsamples = 4\\nvalue = [0, 4]\\nclass = Died'),\n",
              " Text(195.87883817427385, 131.60842105263157, 'gini = 0.0\\nsamples = 5\\nvalue = [0, 5]\\nclass = Died'),\n",
              " Text(209.77095435684646, 143.05263157894737, 'Pclass_2 <= 0.5\\ngini = 0.456\\nsamples = 57\\nvalue = [37, 20]\\nclass = Survived'),\n",
              " Text(206.99253112033193, 131.60842105263157, 'Fare <= 32.51\\ngini = 0.489\\nsamples = 47\\nvalue = [27, 20]\\nclass = Survived'),\n",
              " Text(201.4356846473029, 120.16421052631578, 'Fare <= 29.85\\ngini = 0.278\\nsamples = 6\\nvalue = [1, 5]\\nclass = Died'),\n",
              " Text(198.65726141078838, 108.72, 'gini = 0.0\\nsamples = 1\\nvalue = [1, 0]\\nclass = Survived'),\n",
              " Text(204.21410788381743, 108.72, 'gini = 0.0\\nsamples = 5\\nvalue = [0, 5]\\nclass = Died'),\n",
              " Text(212.549377593361, 120.16421052631578, 'Age <= 24.5\\ngini = 0.464\\nsamples = 41\\nvalue = [26, 15]\\nclass = Survived'),\n",
              " Text(209.77095435684646, 108.72, 'gini = 0.0\\nsamples = 4\\nvalue = [4, 0]\\nclass = Survived'),\n",
              " Text(215.3278008298755, 108.72, 'Fare <= 51.248\\ngini = 0.482\\nsamples = 37\\nvalue = [22, 15]\\nclass = Survived'),\n",
              " Text(206.99253112033193, 97.27578947368421, 'Age <= 29.5\\ngini = 0.245\\nsamples = 7\\nvalue = [6, 1]\\nclass = Survived'),\n",
              " Text(204.21410788381743, 85.83157894736843, 'Fare <= 41.3\\ngini = 0.5\\nsamples = 2\\nvalue = [1, 1]\\nclass = Survived'),\n",
              " Text(201.4356846473029, 74.38736842105263, 'gini = 0.0\\nsamples = 1\\nvalue = [0, 1]\\nclass = Died'),\n",
              " Text(206.99253112033193, 74.38736842105263, 'gini = 0.0\\nsamples = 1\\nvalue = [1, 0]\\nclass = Survived'),\n",
              " Text(209.77095435684646, 85.83157894736843, 'gini = 0.0\\nsamples = 5\\nvalue = [5, 0]\\nclass = Survived'),\n",
              " Text(223.66307053941907, 97.27578947368421, 'Fare <= 77.79\\ngini = 0.498\\nsamples = 30\\nvalue = [16, 14]\\nclass = Survived'),\n",
              " Text(215.3278008298755, 85.83157894736843, 'Age <= 49.5\\ngini = 0.48\\nsamples = 15\\nvalue = [6, 9]\\nclass = Died'),\n",
              " Text(212.549377593361, 74.38736842105263, 'Fare <= 52.277\\ngini = 0.426\\nsamples = 13\\nvalue = [4, 9]\\nclass = Died'),\n",
              " Text(206.99253112033193, 62.943157894736856, 'Age <= 47.5\\ngini = 0.444\\nsamples = 3\\nvalue = [2, 1]\\nclass = Survived'),\n",
              " Text(204.21410788381743, 51.49894736842106, 'gini = 0.0\\nsamples = 2\\nvalue = [2, 0]\\nclass = Survived'),\n",
              " Text(209.77095435684646, 51.49894736842106, 'gini = 0.0\\nsamples = 1\\nvalue = [0, 1]\\nclass = Died'),\n",
              " Text(218.10622406639004, 62.943157894736856, 'Age <= 39.5\\ngini = 0.32\\nsamples = 10\\nvalue = [2, 8]\\nclass = Died'),\n",
              " Text(215.3278008298755, 51.49894736842106, 'SibSp <= 0.5\\ngini = 0.408\\nsamples = 7\\nvalue = [2, 5]\\nclass = Died'),\n",
              " Text(212.549377593361, 40.05473684210526, 'gini = 0.0\\nsamples = 2\\nvalue = [0, 2]\\nclass = Died'),\n",
              " Text(218.10622406639004, 40.05473684210526, 'Fare <= 61.8\\ngini = 0.48\\nsamples = 5\\nvalue = [2, 3]\\nclass = Died'),\n",
              " Text(215.3278008298755, 28.610526315789485, 'Age <= 34.0\\ngini = 0.375\\nsamples = 4\\nvalue = [1, 3]\\nclass = Died'),\n",
              " Text(212.549377593361, 17.166315789473686, 'gini = 0.0\\nsamples = 2\\nvalue = [0, 2]\\nclass = Died'),\n",
              " Text(218.10622406639004, 17.166315789473686, 'Fare <= 52.827\\ngini = 0.5\\nsamples = 2\\nvalue = [1, 1]\\nclass = Survived'),\n",
              " Text(215.3278008298755, 5.722105263157886, 'gini = 0.0\\nsamples = 1\\nvalue = [0, 1]\\nclass = Died'),\n",
              " Text(220.88464730290457, 5.722105263157886, 'gini = 0.0\\nsamples = 1\\nvalue = [1, 0]\\nclass = Survived'),\n",
              " Text(220.88464730290457, 28.610526315789485, 'gini = 0.0\\nsamples = 1\\nvalue = [1, 0]\\nclass = Survived'),\n",
              " Text(220.88464730290457, 51.49894736842106, 'gini = 0.0\\nsamples = 3\\nvalue = [0, 3]\\nclass = Died'),\n",
              " Text(218.10622406639004, 74.38736842105263, 'gini = 0.0\\nsamples = 2\\nvalue = [2, 0]\\nclass = Survived'),\n",
              " Text(231.99834024896265, 85.83157894736843, 'Fare <= 86.29\\ngini = 0.444\\nsamples = 15\\nvalue = [10, 5]\\nclass = Survived'),\n",
              " Text(229.21991701244812, 74.38736842105263, 'gini = 0.0\\nsamples = 5\\nvalue = [5, 0]\\nclass = Survived'),\n",
              " Text(234.77676348547718, 74.38736842105263, 'Age <= 37.0\\ngini = 0.5\\nsamples = 10\\nvalue = [5, 5]\\nclass = Survived'),\n",
              " Text(229.21991701244812, 62.943157894736856, 'Age <= 31.5\\ngini = 0.375\\nsamples = 4\\nvalue = [1, 3]\\nclass = Died'),\n",
              " Text(226.4414937759336, 51.49894736842106, 'Parch <= 1.0\\ngini = 0.5\\nsamples = 2\\nvalue = [1, 1]\\nclass = Survived'),\n",
              " Text(223.66307053941907, 40.05473684210526, 'gini = 0.0\\nsamples = 1\\nvalue = [0, 1]\\nclass = Died'),\n",
              " Text(229.21991701244812, 40.05473684210526, 'gini = 0.0\\nsamples = 1\\nvalue = [1, 0]\\nclass = Survived'),\n",
              " Text(231.99834024896265, 51.49894736842106, 'gini = 0.0\\nsamples = 2\\nvalue = [0, 2]\\nclass = Died'),\n",
              " Text(240.3336099585062, 62.943157894736856, 'Fare <= 89.552\\ngini = 0.444\\nsamples = 6\\nvalue = [4, 2]\\nclass = Survived'),\n",
              " Text(237.5551867219917, 51.49894736842106, 'gini = 0.0\\nsamples = 1\\nvalue = [0, 1]\\nclass = Died'),\n",
              " Text(243.11203319502073, 51.49894736842106, 'SibSp <= 1.5\\ngini = 0.32\\nsamples = 5\\nvalue = [4, 1]\\nclass = Survived'),\n",
              " Text(240.3336099585062, 40.05473684210526, 'gini = 0.0\\nsamples = 3\\nvalue = [3, 0]\\nclass = Survived'),\n",
              " Text(245.89045643153526, 40.05473684210526, 'Embarked_S <= 0.5\\ngini = 0.5\\nsamples = 2\\nvalue = [1, 1]\\nclass = Survived'),\n",
              " Text(243.11203319502073, 28.610526315789485, 'gini = 0.0\\nsamples = 1\\nvalue = [1, 0]\\nclass = Survived'),\n",
              " Text(248.66887966804978, 28.610526315789485, 'gini = 0.0\\nsamples = 1\\nvalue = [0, 1]\\nclass = Died'),\n",
              " Text(212.549377593361, 131.60842105263157, 'gini = 0.0\\nsamples = 10\\nvalue = [10, 0]\\nclass = Survived'),\n",
              " Text(220.88464730290457, 165.94105263157894, 'Age <= 75.5\\ngini = 0.198\\nsamples = 18\\nvalue = [16, 2]\\nclass = Survived'),\n",
              " Text(218.10622406639004, 154.49684210526317, 'SibSp <= 0.5\\ngini = 0.111\\nsamples = 17\\nvalue = [16, 1]\\nclass = Survived'),\n",
              " Text(215.3278008298755, 143.05263157894737, 'gini = 0.0\\nsamples = 14\\nvalue = [14, 0]\\nclass = Survived'),\n",
              " Text(220.88464730290457, 143.05263157894737, 'Age <= 62.0\\ngini = 0.444\\nsamples = 3\\nvalue = [2, 1]\\nclass = Survived'),\n",
              " Text(218.10622406639004, 131.60842105263157, 'gini = 0.0\\nsamples = 1\\nvalue = [0, 1]\\nclass = Died'),\n",
              " Text(223.66307053941907, 131.60842105263157, 'gini = 0.0\\nsamples = 2\\nvalue = [2, 0]\\nclass = Survived'),\n",
              " Text(223.66307053941907, 154.49684210526317, 'gini = 0.0\\nsamples = 1\\nvalue = [0, 1]\\nclass = Died'),\n",
              " Text(234.77676348547718, 177.38526315789474, 'Age <= 3.5\\ngini = 0.1\\nsamples = 19\\nvalue = [18, 1]\\nclass = Survived'),\n",
              " Text(231.99834024896265, 165.94105263157894, 'Fare <= 35.538\\ngini = 0.245\\nsamples = 7\\nvalue = [6, 1]\\nclass = Survived'),\n",
              " Text(229.21991701244812, 154.49684210526317, 'gini = 0.0\\nsamples = 1\\nvalue = [0, 1]\\nclass = Died'),\n",
              " Text(234.77676348547718, 154.49684210526317, 'gini = 0.0\\nsamples = 6\\nvalue = [6, 0]\\nclass = Survived'),\n",
              " Text(237.5551867219917, 165.94105263157894, 'gini = 0.0\\nsamples = 12\\nvalue = [12, 0]\\nclass = Survived'),\n",
              " Text(273.3273858921162, 200.2736842105263, 'Pclass_3 <= 0.5\\ngini = 0.39\\nsamples = 252\\nvalue = [67, 185]\\nclass = Died'),\n",
              " Text(245.89045643153526, 188.82947368421054, 'Age <= 2.5\\ngini = 0.097\\nsamples = 137\\nvalue = [7, 130]\\nclass = Died'),\n",
              " Text(243.11203319502073, 177.38526315789474, 'gini = 0.0\\nsamples = 1\\nvalue = [1, 0]\\nclass = Survived'),\n",
              " Text(248.66887966804978, 177.38526315789474, 'Fare <= 28.856\\ngini = 0.084\\nsamples = 136\\nvalue = [6, 130]\\nclass = Died'),\n",
              " Text(243.11203319502073, 165.94105263157894, 'Age <= 56.0\\ngini = 0.168\\nsamples = 54\\nvalue = [5, 49]\\nclass = Died'),\n",
              " Text(240.3336099585062, 154.49684210526317, 'Fare <= 28.231\\ngini = 0.14\\nsamples = 53\\nvalue = [4, 49]\\nclass = Died'),\n",
              " Text(237.5551867219917, 143.05263157894737, 'Age <= 37.0\\ngini = 0.109\\nsamples = 52\\nvalue = [3, 49]\\nclass = Died'),\n",
              " Text(231.99834024896265, 131.60842105263157, 'Fare <= 25.0\\ngini = 0.05\\nsamples = 39\\nvalue = [1, 38]\\nclass = Died'),\n",
              " Text(229.21991701244812, 120.16421052631578, 'gini = 0.0\\nsamples = 26\\nvalue = [0, 26]\\nclass = Died'),\n",
              " Text(234.77676348547718, 120.16421052631578, 'Age <= 25.5\\ngini = 0.142\\nsamples = 13\\nvalue = [1, 12]\\nclass = Died'),\n",
              " Text(231.99834024896265, 108.72, 'gini = 0.0\\nsamples = 7\\nvalue = [0, 7]\\nclass = Died'),\n",
              " Text(237.5551867219917, 108.72, 'Age <= 27.0\\ngini = 0.278\\nsamples = 6\\nvalue = [1, 5]\\nclass = Died'),\n",
              " Text(234.77676348547718, 97.27578947368421, 'gini = 0.0\\nsamples = 1\\nvalue = [1, 0]\\nclass = Survived'),\n",
              " Text(240.3336099585062, 97.27578947368421, 'gini = 0.0\\nsamples = 5\\nvalue = [0, 5]\\nclass = Died'),\n",
              " Text(243.11203319502073, 131.60842105263157, 'Age <= 39.0\\ngini = 0.26\\nsamples = 13\\nvalue = [2, 11]\\nclass = Died'),\n",
              " Text(240.3336099585062, 120.16421052631578, 'gini = 0.0\\nsamples = 1\\nvalue = [1, 0]\\nclass = Survived'),\n",
              " Text(245.89045643153526, 120.16421052631578, 'SibSp <= 0.5\\ngini = 0.153\\nsamples = 12\\nvalue = [1, 11]\\nclass = Died'),\n",
              " Text(243.11203319502073, 108.72, 'gini = 0.0\\nsamples = 9\\nvalue = [0, 9]\\nclass = Died'),\n",
              " Text(248.66887966804978, 108.72, 'Fare <= 24.5\\ngini = 0.444\\nsamples = 3\\nvalue = [1, 2]\\nclass = Died'),\n",
              " Text(245.89045643153526, 97.27578947368421, 'gini = 0.0\\nsamples = 1\\nvalue = [0, 1]\\nclass = Died'),\n",
              " Text(251.4473029045643, 97.27578947368421, 'Age <= 43.0\\ngini = 0.5\\nsamples = 2\\nvalue = [1, 1]\\nclass = Survived'),\n",
              " Text(248.66887966804978, 85.83157894736843, 'gini = 0.0\\nsamples = 1\\nvalue = [0, 1]\\nclass = Died'),\n",
              " Text(254.22572614107884, 85.83157894736843, 'gini = 0.0\\nsamples = 1\\nvalue = [1, 0]\\nclass = Survived'),\n",
              " Text(243.11203319502073, 143.05263157894737, 'gini = 0.0\\nsamples = 1\\nvalue = [1, 0]\\nclass = Survived'),\n",
              " Text(245.89045643153526, 154.49684210526317, 'gini = 0.0\\nsamples = 1\\nvalue = [1, 0]\\nclass = Survived'),\n",
              " Text(254.22572614107884, 165.94105263157894, 'Parch <= 1.5\\ngini = 0.024\\nsamples = 82\\nvalue = [1, 81]\\nclass = Died'),\n",
              " Text(251.4473029045643, 154.49684210526317, 'gini = 0.0\\nsamples = 69\\nvalue = [0, 69]\\nclass = Died'),\n",
              " Text(257.00414937759336, 154.49684210526317, 'Age <= 24.5\\ngini = 0.142\\nsamples = 13\\nvalue = [1, 12]\\nclass = Died'),\n",
              " Text(254.22572614107884, 143.05263157894737, 'gini = 0.0\\nsamples = 9\\nvalue = [0, 9]\\nclass = Died'),\n",
              " Text(259.7825726141079, 143.05263157894737, 'Age <= 28.0\\ngini = 0.375\\nsamples = 4\\nvalue = [1, 3]\\nclass = Died'),\n",
              " Text(257.00414937759336, 131.60842105263157, 'gini = 0.0\\nsamples = 1\\nvalue = [1, 0]\\nclass = Survived'),\n",
              " Text(262.5609958506224, 131.60842105263157, 'gini = 0.0\\nsamples = 3\\nvalue = [0, 3]\\nclass = Died'),\n",
              " Text(300.7643153526971, 188.82947368421054, 'Fare <= 22.904\\ngini = 0.499\\nsamples = 115\\nvalue = [60, 55]\\nclass = Survived'),\n",
              " Text(283.3991701244813, 177.38526315789474, 'Age <= 6.5\\ngini = 0.487\\nsamples = 93\\nvalue = [39, 54]\\nclass = Died'),\n",
              " Text(270.89626556016594, 165.94105263157894, 'SibSp <= 2.5\\ngini = 0.198\\nsamples = 9\\nvalue = [1, 8]\\nclass = Died'),\n",
              " Text(268.1178423236514, 154.49684210526317, 'gini = 0.0\\nsamples = 8\\nvalue = [0, 8]\\nclass = Died'),\n",
              " Text(273.67468879668047, 154.49684210526317, 'gini = 0.0\\nsamples = 1\\nvalue = [1, 0]\\nclass = Survived'),\n",
              " Text(295.9020746887967, 165.94105263157894, 'Fare <= 8.04\\ngini = 0.495\\nsamples = 84\\nvalue = [38, 46]\\nclass = Died'),\n",
              " Text(279.2315352697095, 154.49684210526317, 'Embarked_S <= 0.5\\ngini = 0.444\\nsamples = 39\\nvalue = [13, 26]\\nclass = Died'),\n",
              " Text(270.89626556016594, 143.05263157894737, 'Fare <= 6.987\\ngini = 0.365\\nsamples = 25\\nvalue = [6, 19]\\nclass = Died'),\n",
              " Text(268.1178423236514, 131.60842105263157, 'gini = 0.0\\nsamples = 1\\nvalue = [1, 0]\\nclass = Survived'),\n",
              " Text(273.67468879668047, 131.60842105263157, 'Parch <= 1.0\\ngini = 0.33\\nsamples = 24\\nvalue = [5, 19]\\nclass = Died'),\n",
              " Text(270.89626556016594, 120.16421052631578, 'Fare <= 7.769\\ngini = 0.287\\nsamples = 23\\nvalue = [4, 19]\\nclass = Died'),\n",
              " Text(268.1178423236514, 108.72, 'Age <= 18.5\\ngini = 0.375\\nsamples = 16\\nvalue = [4, 12]\\nclass = Died'),\n",
              " Text(265.33941908713695, 97.27578947368421, 'gini = 0.0\\nsamples = 4\\nvalue = [0, 4]\\nclass = Died'),\n",
              " Text(270.89626556016594, 97.27578947368421, 'Age <= 33.25\\ngini = 0.444\\nsamples = 12\\nvalue = [4, 8]\\nclass = Died'),\n",
              " Text(268.1178423236514, 85.83157894736843, 'Age <= 25.75\\ngini = 0.48\\nsamples = 10\\nvalue = [4, 6]\\nclass = Died'),\n",
              " Text(265.33941908713695, 74.38736842105263, 'Fare <= 7.683\\ngini = 0.444\\nsamples = 9\\nvalue = [3, 6]\\nclass = Died'),\n",
              " Text(262.5609958506224, 62.943157894736856, 'gini = 0.0\\nsamples = 1\\nvalue = [1, 0]\\nclass = Survived'),\n",
              " Text(268.1178423236514, 62.943157894736856, 'Fare <= 7.744\\ngini = 0.375\\nsamples = 8\\nvalue = [2, 6]\\nclass = Died'),\n",
              " Text(265.33941908713695, 51.49894736842106, 'gini = 0.0\\nsamples = 1\\nvalue = [0, 1]\\nclass = Died'),\n",
              " Text(270.89626556016594, 51.49894736842106, 'gini = 0.408\\nsamples = 7\\nvalue = [2, 5]\\nclass = Died'),\n",
              " Text(270.89626556016594, 74.38736842105263, 'gini = 0.0\\nsamples = 1\\nvalue = [1, 0]\\nclass = Survived'),\n",
              " Text(273.67468879668047, 85.83157894736843, 'gini = 0.0\\nsamples = 2\\nvalue = [0, 2]\\nclass = Died'),\n",
              " Text(273.67468879668047, 108.72, 'gini = 0.0\\nsamples = 7\\nvalue = [0, 7]\\nclass = Died'),\n",
              " Text(276.453112033195, 120.16421052631578, 'gini = 0.0\\nsamples = 1\\nvalue = [1, 0]\\nclass = Survived'),\n",
              " Text(287.5668049792531, 143.05263157894737, 'Age <= 27.5\\ngini = 0.5\\nsamples = 14\\nvalue = [7, 7]\\nclass = Survived'),\n",
              " Text(284.7883817427386, 131.60842105263157, 'Age <= 25.5\\ngini = 0.486\\nsamples = 12\\nvalue = [5, 7]\\nclass = Died'),\n",
              " Text(282.00995850622405, 120.16421052631578, 'Age <= 24.0\\ngini = 0.5\\nsamples = 10\\nvalue = [5, 5]\\nclass = Survived'),\n",
              " Text(279.2315352697095, 108.72, 'Age <= 16.0\\ngini = 0.469\\nsamples = 8\\nvalue = [3, 5]\\nclass = Died'),\n",
              " Text(276.453112033195, 97.27578947368421, 'gini = 0.0\\nsamples = 1\\nvalue = [1, 0]\\nclass = Survived'),\n",
              " Text(282.00995850622405, 97.27578947368421, 'Age <= 21.5\\ngini = 0.408\\nsamples = 7\\nvalue = [2, 5]\\nclass = Died'),\n",
              " Text(279.2315352697095, 85.83157894736843, 'SibSp <= 0.5\\ngini = 0.48\\nsamples = 5\\nvalue = [2, 3]\\nclass = Died'),\n",
              " Text(276.453112033195, 74.38736842105263, 'Fare <= 7.523\\ngini = 0.5\\nsamples = 4\\nvalue = [2, 2]\\nclass = Survived'),\n",
              " Text(273.67468879668047, 62.943157894736856, 'gini = 0.0\\nsamples = 1\\nvalue = [0, 1]\\nclass = Died'),\n",
              " Text(279.2315352697095, 62.943157894736856, 'Age <= 19.5\\ngini = 0.444\\nsamples = 3\\nvalue = [2, 1]\\nclass = Survived'),\n",
              " Text(276.453112033195, 51.49894736842106, 'gini = 0.0\\nsamples = 1\\nvalue = [1, 0]\\nclass = Survived'),\n",
              " Text(282.00995850622405, 51.49894736842106, 'Fare <= 7.6\\ngini = 0.5\\nsamples = 2\\nvalue = [1, 1]\\nclass = Survived'),\n",
              " Text(279.2315352697095, 40.05473684210526, 'gini = 0.0\\nsamples = 1\\nvalue = [1, 0]\\nclass = Survived'),\n",
              " Text(284.7883817427386, 40.05473684210526, 'gini = 0.0\\nsamples = 1\\nvalue = [0, 1]\\nclass = Died'),\n",
              " Text(282.00995850622405, 74.38736842105263, 'gini = 0.0\\nsamples = 1\\nvalue = [0, 1]\\nclass = Died'),\n",
              " Text(284.7883817427386, 85.83157894736843, 'gini = 0.0\\nsamples = 2\\nvalue = [0, 2]\\nclass = Died'),\n",
              " Text(284.7883817427386, 108.72, 'gini = 0.0\\nsamples = 2\\nvalue = [2, 0]\\nclass = Survived'),\n",
              " Text(287.5668049792531, 120.16421052631578, 'gini = 0.0\\nsamples = 2\\nvalue = [0, 2]\\nclass = Died'),\n",
              " Text(290.34522821576763, 131.60842105263157, 'gini = 0.0\\nsamples = 2\\nvalue = [2, 0]\\nclass = Survived'),\n",
              " Text(312.5726141078838, 154.49684210526317, 'Fare <= 15.373\\ngini = 0.494\\nsamples = 45\\nvalue = [25, 20]\\nclass = Survived'),\n",
              " Text(307.01576763485474, 143.05263157894737, 'Age <= 55.0\\ngini = 0.426\\nsamples = 26\\nvalue = [18, 8]\\nclass = Survived'),\n",
              " Text(304.2373443983402, 131.60842105263157, 'Age <= 33.5\\ngini = 0.403\\nsamples = 25\\nvalue = [18, 7]\\nclass = Survived'),\n",
              " Text(301.45892116182574, 120.16421052631578, 'Age <= 29.5\\ngini = 0.444\\nsamples = 21\\nvalue = [14, 7]\\nclass = Survived'),\n",
              " Text(298.6804979253112, 108.72, 'Parch <= 1.5\\ngini = 0.388\\nsamples = 19\\nvalue = [14, 5]\\nclass = Survived'),\n",
              " Text(295.9020746887967, 97.27578947368421, 'Age <= 19.0\\ngini = 0.346\\nsamples = 18\\nvalue = [14, 4]\\nclass = Survived'),\n",
              " Text(290.34522821576763, 85.83157894736843, 'Embarked_C <= 0.5\\ngini = 0.49\\nsamples = 7\\nvalue = [4, 3]\\nclass = Survived'),\n",
              " Text(287.5668049792531, 74.38736842105263, 'gini = 0.0\\nsamples = 2\\nvalue = [0, 2]\\nclass = Died'),\n",
              " Text(293.12365145228216, 74.38736842105263, 'Age <= 14.75\\ngini = 0.32\\nsamples = 5\\nvalue = [4, 1]\\nclass = Survived'),\n",
              " Text(290.34522821576763, 62.943157894736856, 'gini = 0.0\\nsamples = 2\\nvalue = [2, 0]\\nclass = Survived'),\n",
              " Text(295.9020746887967, 62.943157894736856, 'Age <= 16.0\\ngini = 0.444\\nsamples = 3\\nvalue = [2, 1]\\nclass = Survived'),\n",
              " Text(293.12365145228216, 51.49894736842106, 'gini = 0.0\\nsamples = 1\\nvalue = [0, 1]\\nclass = Died'),\n",
              " Text(298.6804979253112, 51.49894736842106, 'gini = 0.0\\nsamples = 2\\nvalue = [2, 0]\\nclass = Survived'),\n",
              " Text(301.45892116182574, 85.83157894736843, 'Fare <= 11.496\\ngini = 0.165\\nsamples = 11\\nvalue = [10, 1]\\nclass = Survived'),\n",
              " Text(298.6804979253112, 74.38736842105263, 'gini = 0.0\\nsamples = 8\\nvalue = [8, 0]\\nclass = Survived'),\n",
              " Text(304.2373443983402, 74.38736842105263, 'SibSp <= 0.5\\ngini = 0.444\\nsamples = 3\\nvalue = [2, 1]\\nclass = Survived'),\n",
              " Text(301.45892116182574, 62.943157894736856, 'gini = 0.0\\nsamples = 1\\nvalue = [0, 1]\\nclass = Died'),\n",
              " Text(307.01576763485474, 62.943157894736856, 'gini = 0.0\\nsamples = 2\\nvalue = [2, 0]\\nclass = Survived'),\n",
              " Text(301.45892116182574, 97.27578947368421, 'gini = 0.0\\nsamples = 1\\nvalue = [0, 1]\\nclass = Died'),\n",
              " Text(304.2373443983402, 108.72, 'gini = 0.0\\nsamples = 2\\nvalue = [0, 2]\\nclass = Died'),\n",
              " Text(307.01576763485474, 120.16421052631578, 'gini = 0.0\\nsamples = 4\\nvalue = [4, 0]\\nclass = Survived'),\n",
              " Text(309.79419087136927, 131.60842105263157, 'gini = 0.0\\nsamples = 1\\nvalue = [0, 1]\\nclass = Died'),\n",
              " Text(318.12946058091285, 143.05263157894737, 'Age <= 19.5\\ngini = 0.465\\nsamples = 19\\nvalue = [7, 12]\\nclass = Died'),\n",
              " Text(315.3510373443983, 131.60842105263157, 'gini = 0.0\\nsamples = 2\\nvalue = [2, 0]\\nclass = Survived'),\n",
              " Text(320.9078838174274, 131.60842105263157, 'Age <= 25.0\\ngini = 0.415\\nsamples = 17\\nvalue = [5, 12]\\nclass = Died'),\n",
              " Text(318.12946058091285, 120.16421052631578, 'gini = 0.0\\nsamples = 5\\nvalue = [0, 5]\\nclass = Died'),\n",
              " Text(323.6863070539419, 120.16421052631578, 'Age <= 32.5\\ngini = 0.486\\nsamples = 12\\nvalue = [5, 7]\\nclass = Died'),\n",
              " Text(318.12946058091285, 108.72, 'Fare <= 19.262\\ngini = 0.32\\nsamples = 5\\nvalue = [4, 1]\\nclass = Survived'),\n",
              " Text(315.3510373443983, 97.27578947368421, 'gini = 0.0\\nsamples = 3\\nvalue = [3, 0]\\nclass = Survived'),\n",
              " Text(320.9078838174274, 97.27578947368421, 'Fare <= 20.8\\ngini = 0.5\\nsamples = 2\\nvalue = [1, 1]\\nclass = Survived'),\n",
              " Text(318.12946058091285, 85.83157894736843, 'gini = 0.0\\nsamples = 1\\nvalue = [0, 1]\\nclass = Died'),\n",
              " Text(323.6863070539419, 85.83157894736843, 'gini = 0.0\\nsamples = 1\\nvalue = [1, 0]\\nclass = Survived'),\n",
              " Text(329.24315352697096, 108.72, 'Age <= 38.5\\ngini = 0.245\\nsamples = 7\\nvalue = [1, 6]\\nclass = Died'),\n",
              " Text(326.46473029045643, 97.27578947368421, 'gini = 0.0\\nsamples = 6\\nvalue = [0, 6]\\nclass = Died'),\n",
              " Text(332.0215767634855, 97.27578947368421, 'gini = 0.0\\nsamples = 1\\nvalue = [1, 0]\\nclass = Survived'),\n",
              " Text(318.12946058091285, 177.38526315789474, 'Parch <= 4.5\\ngini = 0.087\\nsamples = 22\\nvalue = [21, 1]\\nclass = Survived'),\n",
              " Text(315.3510373443983, 165.94105263157894, 'gini = 0.0\\nsamples = 19\\nvalue = [19, 0]\\nclass = Survived'),\n",
              " Text(320.9078838174274, 165.94105263157894, 'Age <= 38.5\\ngini = 0.444\\nsamples = 3\\nvalue = [2, 1]\\nclass = Survived'),\n",
              " Text(318.12946058091285, 154.49684210526317, 'gini = 0.0\\nsamples = 1\\nvalue = [0, 1]\\nclass = Died'),\n",
              " Text(323.6863070539419, 154.49684210526317, 'gini = 0.0\\nsamples = 2\\nvalue = [2, 0]\\nclass = Survived')]"
            ]
          },
          "metadata": {
            "tags": []
          },
          "execution_count": 21
        },
        {
          "output_type": "display_data",
          "data": {
            "image/png": "[encoded data removed]",
            "text/plain": [
              "<Figure size 432x288 with 1 Axes>"
            ]
          },
          "metadata": {
            "tags": [],
            "needs_background": "light"
          }
        }
      ]
    },
    {
      "cell_type": "code",
      "metadata": {
        "id": "6_Q8WuMLqyZK"
      },
      "source": [
        "y_pred = model.predict(X_test)"
      ],
      "execution_count": 22,
      "outputs": []
    },
    {
      "cell_type": "markdown",
      "metadata": {
        "id": "qQWdLqMoqyZM"
      },
      "source": [
        "**Evaluating Metrics**"
      ]
    },
    {
      "cell_type": "markdown",
      "metadata": {
        "id": "WTE0wxkJuHuT"
      },
      "source": [
        "Confsion Matrix"
      ]
    },
    {
      "cell_type": "code",
      "metadata": {
        "id": "v4jPm5xDqyZM",
        "outputId": "52ae8d6a-5e60-4819-a551-6a7ed1aa280d",
        "colab": {
          "base_uri": "https://localhost:8080/",
          "height": 296
        }
      },
      "source": [
        "from sklearn.metrics import plot_confusion_matrix, classification_report\n",
        "plot_confusion_matrix(model, X_train, y_train)"
      ],
      "execution_count": 23,
      "outputs": [
        {
          "output_type": "execute_result",
          "data": {
            "text/plain": [
              "<sklearn.metrics._plot.confusion_matrix.ConfusionMatrixDisplay at 0x7f6955fe2748>"
            ]
          },
          "metadata": {
            "tags": []
          },
          "execution_count": 23
        },
        {
          "output_type": "display_data",
          "data": {
            "image/png": "[encoded data removed]",
            "text/plain": [
              "<Figure size 432x288 with 2 Axes>"
            ]
          },
          "metadata": {
            "tags": [],
            "needs_background": "light"
          }
        }
      ]
    },
    {
      "cell_type": "markdown",
      "metadata": {
        "id": "2-nc2iJerPNt"
      },
      "source": [
        "Classification Report"
      ]
    },
    {
      "cell_type": "code",
      "metadata": {
        "id": "3KVSlj3mrUGE",
        "outputId": "9594ed45-69dc-4f06-faa8-987de404bc18",
        "colab": {
          "base_uri": "https://localhost:8080/",
          "height": 171
        }
      },
      "source": [
        "print (classification_report(y_test, y_pred))"
      ],
      "execution_count": 24,
      "outputs": [
        {
          "output_type": "stream",
          "text": [
            "              precision    recall  f1-score   support\n",
            "\n",
            "           0       0.81      0.80      0.80       108\n",
            "           1       0.70      0.72      0.71        71\n",
            "\n",
            "    accuracy                           0.77       179\n",
            "   macro avg       0.75      0.76      0.76       179\n",
            "weighted avg       0.77      0.77      0.77       179\n",
            "\n"
          ],
          "name": "stdout"
        }
      ]
    },
    {
      "cell_type": "markdown",
      "metadata": {
        "id": "JA4vduCQuUZR"
      },
      "source": [
        "## Part - 4"
      ]
    },
    {
      "cell_type": "markdown",
      "metadata": {
        "id": "pEnXgJtYqyZO"
      },
      "source": [
        "## Pruning"
      ]
    },
    {
      "cell_type": "markdown",
      "metadata": {
        "id": "wmGxC7CXqyZO"
      },
      "source": [
        "Cost Complexity Pruning - alpha determines pruning level"
      ]
    },
    {
      "cell_type": "code",
      "metadata": {
        "id": "c1IK9QhcqyZP",
        "outputId": "a240c6ca-5b91-4fc5-80c5-4a76b5e236d5",
        "colab": {
          "base_uri": "https://localhost:8080/",
          "height": 581
        }
      },
      "source": [
        "path = model.cost_complexity_pruning_path(X_train, y_train)\n",
        "path"
      ],
      "execution_count": 25,
      "outputs": [
        {
          "output_type": "execute_result",
          "data": {
            "text/plain": [
              "{'ccp_alphas': array([0.00000000e+00, 6.68806849e-05, 9.36329588e-05, 2.00642055e-04,\n",
              "        3.74531835e-04, 4.21348315e-04, 4.28036383e-04, 4.68164794e-04,\n",
              "        4.68164794e-04, 4.68164794e-04, 4.70737128e-04, 5.85205993e-04,\n",
              "        6.84240853e-04, 7.28727100e-04, 8.02568218e-04, 8.58302122e-04,\n",
              "        9.17220821e-04, 9.24910935e-04, 9.36329588e-04, 9.77638246e-04,\n",
              "        9.94850187e-04, 1.00321027e-03, 1.00321027e-03, 1.00835494e-03,\n",
              "        1.01367855e-03, 1.05337079e-03, 1.05337079e-03, 1.05337079e-03,\n",
              "        1.12359551e-03, 1.12359551e-03, 1.12359551e-03, 1.12359551e-03,\n",
              "        1.12455900e-03, 1.20385233e-03, 1.22893258e-03, 1.25401284e-03,\n",
              "        1.27681307e-03, 1.29645635e-03, 1.31446269e-03, 1.31671348e-03,\n",
              "        1.32187707e-03, 1.33057363e-03, 1.33426966e-03, 1.34065373e-03,\n",
              "        1.46301498e-03, 1.63857678e-03, 1.64217805e-03, 1.68905597e-03,\n",
              "        1.74374423e-03, 1.79277651e-03, 1.79828292e-03, 1.90214691e-03,\n",
              "        1.91167291e-03, 1.93117978e-03, 2.34082397e-03, 2.35000367e-03,\n",
              "        2.40770465e-03, 2.49687890e-03, 2.54786980e-03, 2.58793050e-03,\n",
              "        2.93079735e-03, 3.21301474e-03, 3.49568771e-03, 4.76251976e-03,\n",
              "        4.81540931e-03, 5.15828353e-03, 1.08522927e-02, 1.09816021e-02,\n",
              "        1.43144535e-02, 3.89003371e-02, 1.36922138e-01]),\n",
              " 'impurities': array([0.01712146, 0.01718834, 0.01728197, 0.01748261, 0.01785714,\n",
              "        0.01869984, 0.01912788, 0.01959604, 0.02006421, 0.02053237,\n",
              "        0.02147384, 0.02205905, 0.02479601, 0.0269822 , 0.0293899 ,\n",
              "        0.03196481, 0.03471647, 0.0374912 , 0.03936386, 0.04131914,\n",
              "        0.04927794, 0.05228757, 0.05630041, 0.06033383, 0.06540222,\n",
              "        0.06750896, 0.06961571, 0.07066908, 0.07291627, 0.07516346,\n",
              "        0.07965784, 0.08190503, 0.10102254, 0.10343024, 0.1058881 ,\n",
              "        0.10714212, 0.10969574, 0.11228866, 0.11491758, 0.11755101,\n",
              "        0.12019476, 0.12285591, 0.12552445, 0.12820576, 0.13113179,\n",
              "        0.13277036, 0.13605472, 0.14787811, 0.15310934, 0.163866  ,\n",
              "        0.16926085, 0.17877159, 0.18068326, 0.18454562, 0.18688644,\n",
              "        0.18923645, 0.19164415, 0.19414103, 0.1966889 , 0.20445269,\n",
              "        0.21324508, 0.2164581 , 0.23393654, 0.23869906, 0.24351447,\n",
              "        0.24867275, 0.27037734, 0.28135894, 0.29567339, 0.33457373,\n",
              "        0.47149587])}"
            ]
          },
          "metadata": {
            "tags": []
          },
          "execution_count": 25
        }
      ]
    },
    {
      "cell_type": "code",
      "metadata": {
        "id": "v8VMvufasJZj",
        "outputId": "ee3d5bec-2c8d-4e74-a91a-b65e875f5645",
        "colab": {
          "base_uri": "https://localhost:8080/",
          "height": 296
        }
      },
      "source": [
        "from sklearn.model_selection import cross_val_score\n",
        "alpha = []\n",
        "ccp_alphas = path.ccp_alphas\n",
        "ccp_alphas = ccp_alphas[:-1] #excluding the max alpha value -> coz max alpha prunes all leaves leaving us only with the root\n",
        "\n",
        "#creating one DT for each alpha and storing its cross_val_score in a array\n",
        "for a in ccp_alphas:\n",
        "  dt = DecisionTreeClassifier(random_state = 30, ccp_alpha = a)\n",
        "  score = cross_val_score(dt, X_train, y_train, cv=5)\n",
        "  alpha.append([a, np.mean(score), np.std(score)])\n",
        "\n",
        "df_alpha = pd.DataFrame(alpha, columns = ['Alpha', 'mean_accuracy', 'std_accuracy'])\n",
        "df_alpha.plot(x = 'Alpha', y = 'mean_accuracy', yerr = 'std_accuracy', marker = 'o', ls = '--')\n",
        "##See pandas.DataFrame.plot() for reference"
      ],
      "execution_count": 26,
      "outputs": [
        {
          "output_type": "execute_result",
          "data": {
            "text/plain": [
              "<matplotlib.axes._subplots.AxesSubplot at 0x7f697ae69be0>"
            ]
          },
          "metadata": {
            "tags": []
          },
          "execution_count": 26
        },
        {
          "output_type": "display_data",
          "data": {
            "image/png": "[encoded data removed]",
            "text/plain": [
              "<Figure size 432x288 with 1 Axes>"
            ]
          },
          "metadata": {
            "tags": [],
            "needs_background": "light"
          }
        }
      ]
    },
    {
      "cell_type": "code",
      "metadata": {
        "id": "-0clqqWxs3Xq",
        "outputId": "464245bf-8419-44e8-b22d-efd9e507053f",
        "colab": {
          "base_uri": "https://localhost:8080/",
          "height": 34
        }
      },
      "source": [
        "ccp_alphas[(ccp_alphas > 0.010) & (ccp_alphas < 0.015) ]"
      ],
      "execution_count": 27,
      "outputs": [
        {
          "output_type": "execute_result",
          "data": {
            "text/plain": [
              "array([0.01085229, 0.0109816 , 0.01431445])"
            ]
          },
          "metadata": {
            "tags": []
          },
          "execution_count": 27
        }
      ]
    },
    {
      "cell_type": "markdown",
      "metadata": {
        "id": "O_slWRDBuZ0M"
      },
      "source": [
        "## Part - 5"
      ]
    },
    {
      "cell_type": "markdown",
      "metadata": {
        "id": "9tDuvjzttMBc"
      },
      "source": [
        "## Building Pruned Model"
      ]
    },
    {
      "cell_type": "code",
      "metadata": {
        "id": "daeRx5rZtMWn",
        "outputId": "7da9ab02-d42e-4c63-c1da-75849db62dea",
        "colab": {
          "base_uri": "https://localhost:8080/",
          "height": 119
        }
      },
      "source": [
        "model_pruned = DecisionTreeClassifier(random_state = 30, ccp_alpha=0.0109816)\n",
        "model_pruned.fit(X_train, y_train)"
      ],
      "execution_count": 28,
      "outputs": [
        {
          "output_type": "execute_result",
          "data": {
            "text/plain": [
              "DecisionTreeClassifier(ccp_alpha=0.0109816, class_weight=None, criterion='gini',\n",
              "                       max_depth=None, max_features=None, max_leaf_nodes=None,\n",
              "                       min_impurity_decrease=0.0, min_impurity_split=None,\n",
              "                       min_samples_leaf=1, min_samples_split=2,\n",
              "                       min_weight_fraction_leaf=0.0, presort='deprecated',\n",
              "                       random_state=30, splitter='best')"
            ]
          },
          "metadata": {
            "tags": []
          },
          "execution_count": 28
        }
      ]
    },
    {
      "cell_type": "code",
      "metadata": {
        "id": "XSkdOASEtWkY",
        "outputId": "f56a8d7b-9991-4ed7-98d2-446b86c12995",
        "colab": {
          "base_uri": "https://localhost:8080/",
          "height": 565
        }
      },
      "source": [
        "plt.figure(figsize = (15,7) )\n",
        "plot_tree(model_pruned, filled = True, rounded = True, class_names = ['Survived', 'Died'], feature_names=X.columns)"
      ],
      "execution_count": 30,
      "outputs": [
        {
          "output_type": "execute_result",
          "data": {
            "text/plain": [
              "[Text(418.5, 332.955, 'Sex_male <= 0.5\\ngini = 0.471\\nsamples = 712\\nvalue = [441, 271]\\nclass = Survived'),\n",
              " Text(209.25, 237.825, 'Pclass_3 <= 0.5\\ngini = 0.39\\nsamples = 252\\nvalue = [67, 185]\\nclass = Died'),\n",
              " Text(104.625, 142.695, 'gini = 0.097\\nsamples = 137\\nvalue = [7, 130]\\nclass = Died'),\n",
              " Text(313.875, 142.695, 'Fare <= 22.904\\ngini = 0.499\\nsamples = 115\\nvalue = [60, 55]\\nclass = Survived'),\n",
              " Text(209.25, 47.565, 'gini = 0.487\\nsamples = 93\\nvalue = [39, 54]\\nclass = Died'),\n",
              " Text(418.5, 47.565, 'gini = 0.087\\nsamples = 22\\nvalue = [21, 1]\\nclass = Survived'),\n",
              " Text(627.75, 237.825, 'Fare <= 26.269\\ngini = 0.304\\nsamples = 460\\nvalue = [374, 86]\\nclass = Survived'),\n",
              " Text(523.125, 142.695, 'gini = 0.228\\nsamples = 336\\nvalue = [292, 44]\\nclass = Survived'),\n",
              " Text(732.375, 142.695, 'gini = 0.448\\nsamples = 124\\nvalue = [82, 42]\\nclass = Survived')]"
            ]
          },
          "metadata": {
            "tags": []
          },
          "execution_count": 30
        },
        {
          "output_type": "display_data",
          "data": {
            "image/png": "[encoded data removed]",
            "text/plain": [
              "<Figure size 1080x504 with 1 Axes>"
            ]
          },
          "metadata": {
            "tags": [],
            "needs_background": "light"
          }
        }
      ]
    },
    {
      "cell_type": "code",
      "metadata": {
        "id": "dQitFQgztYCI"
      },
      "source": [
        "y_pred = model_pruned.predict(X_test)"
      ],
      "execution_count": 31,
      "outputs": []
    },
    {
      "cell_type": "code",
      "metadata": {
        "id": "p5pwyx3wthtn",
        "outputId": "a3cca5fd-f40d-4a3d-9e94-fdd5b729e1af",
        "colab": {
          "base_uri": "https://localhost:8080/",
          "height": 296
        }
      },
      "source": [
        "plot_confusion_matrix(model, X_train, y_train)"
      ],
      "execution_count": 32,
      "outputs": [
        {
          "output_type": "execute_result",
          "data": {
            "text/plain": [
              "<sklearn.metrics._plot.confusion_matrix.ConfusionMatrixDisplay at 0x7f694c7d4518>"
            ]
          },
          "metadata": {
            "tags": []
          },
          "execution_count": 32
        },
        {
          "output_type": "display_data",
          "data": {
            "image/png": "[encoded data removed]",
            "text/plain": [
              "<Figure size 432x288 with 2 Axes>"
            ]
          },
          "metadata": {
            "tags": [],
            "needs_background": "light"
          }
        }
      ]
    },
    {
      "cell_type": "code",
      "metadata": {
        "id": "TnHUf_PetpNX",
        "outputId": "3cae3f0e-3914-45da-9b08-ef3df684ce63",
        "colab": {
          "base_uri": "https://localhost:8080/",
          "height": 171
        }
      },
      "source": [
        "print (classification_report(y_test, y_pred))"
      ],
      "execution_count": 33,
      "outputs": [
        {
          "output_type": "stream",
          "text": [
            "              precision    recall  f1-score   support\n",
            "\n",
            "           0       0.79      0.90      0.84       108\n",
            "           1       0.80      0.63      0.71        71\n",
            "\n",
            "    accuracy                           0.79       179\n",
            "   macro avg       0.80      0.77      0.77       179\n",
            "weighted avg       0.79      0.79      0.79       179\n",
            "\n"
          ],
          "name": "stdout"
        }
      ]
    },
    {
      "cell_type": "markdown",
      "metadata": {
        "id": "UBJ85qpPt4Et"
      },
      "source": [
        "**There is better improvement in Classification Report after pruning!**"
      ]
    }
  ]
}