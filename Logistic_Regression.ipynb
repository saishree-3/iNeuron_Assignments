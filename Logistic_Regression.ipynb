{
  "nbformat": 4,
  "nbformat_minor": 0,
  "metadata": {
    "colab": {
      "name": "Logistic Regression.ipynb",
      "provenance": []
    },
    "kernelspec": {
      "name": "python3",
      "display_name": "Python 3"
    }
  },
  "cells": [
    {
      "cell_type": "markdown",
      "metadata": {
        "id": "mTFdtv3YjkXR"
      },
      "source": [
        "## Import the Libraries"
      ]
    },
    {
      "cell_type": "code",
      "metadata": {
        "id": "bL-BZi1BjfPS"
      },
      "source": [
        "import numpy as np\n",
        "import pandas as pd\n",
        "import matplotlib.pyplot as plt\n",
        "import seaborn as sns\n",
        "import statsmodels.api as sm\n",
        "from sklearn.linear_model import LogisticRegression\n",
        "from sklearn.model_selection import train_test_split\n",
        "from sklearn.metrics import classification_report, confusion_matrix, plot_confusion_matrix"
      ],
      "execution_count": 78,
      "outputs": []
    },
    {
      "cell_type": "markdown",
      "metadata": {
        "id": "D5qxAZ8TmDjl"
      },
      "source": [
        "## Importing the dataset"
      ]
    },
    {
      "cell_type": "code",
      "metadata": {
        "id": "lb1QDmgZmCN-"
      },
      "source": [
        "df = sm.datasets.fair.load_pandas().data"
      ],
      "execution_count": 79,
      "outputs": []
    },
    {
      "cell_type": "markdown",
      "metadata": {
        "id": "CHPLS3zBnuhi"
      },
      "source": [
        "About Affair Dataset:\n",
        "Number of observations: 6366\n",
        "Number of variables: 9\n",
        "Variable name definitions:\n",
        "\n",
        "    rate_marriage   : How rate marriage, 1 = very poor, 2 = poor, 3 = fair,\n",
        "                    4 = good, 5 = very good\n",
        "    age             : Age\n",
        "    yrs_married     : No. years married. Interval approximations. See\n",
        "                    original paper for detailed explanation.\n",
        "    children        : No. children\n",
        "    religious       : How relgious, 1 = not, 2 = mildly, 3 = fairly,\n",
        "                    4 = strongly\n",
        "    educ            : Level of education, 9 = grade school, 12 = high\n",
        "                    school, 14 = some college, 16 = college graduate,\n",
        "                    17 = some graduate school, 20 = advanced degree\n",
        "    occupation      : 1 = student, 2 = farming, agriculture; semi-skilled,\n",
        "                    or unskilled worker; 3 = white-colloar; 4 = teacher\n",
        "                    counselor social worker, nurse; artist, writers;\n",
        "                    technician, skilled worker, 5 = managerial,\n",
        "                    administrative, business, 6 = professional with\n",
        "                    advanced degree\n",
        "    occupation_husb : Husband's occupation. Same as occupation.\n",
        "    affairs         : measure of time spent in extramarital affairs"
      ]
    },
    {
      "cell_type": "code",
      "metadata": {
        "id": "tOIXGS-XmVAR",
        "outputId": "157d4054-5b19-48f6-bd0c-2c88a7887e3c",
        "colab": {
          "base_uri": "https://localhost:8080/",
          "height": 199
        }
      },
      "source": [
        "df.head()"
      ],
      "execution_count": 80,
      "outputs": [
        {
          "output_type": "execute_result",
          "data": {
            "text/html": [
              "<div>\n",
              "<style scoped>\n",
              "    .dataframe tbody tr th:only-of-type {\n",
              "        vertical-align: middle;\n",
              "    }\n",
              "\n",
              "    .dataframe tbody tr th {\n",
              "        vertical-align: top;\n",
              "    }\n",
              "\n",
              "    .dataframe thead th {\n",
              "        text-align: right;\n",
              "    }\n",
              "</style>\n",
              "<table border=\"1\" class=\"dataframe\">\n",
              "  <thead>\n",
              "    <tr style=\"text-align: right;\">\n",
              "      <th></th>\n",
              "      <th>rate_marriage</th>\n",
              "      <th>age</th>\n",
              "      <th>yrs_married</th>\n",
              "      <th>children</th>\n",
              "      <th>religious</th>\n",
              "      <th>educ</th>\n",
              "      <th>occupation</th>\n",
              "      <th>occupation_husb</th>\n",
              "      <th>affairs</th>\n",
              "    </tr>\n",
              "  </thead>\n",
              "  <tbody>\n",
              "    <tr>\n",
              "      <th>0</th>\n",
              "      <td>3.0</td>\n",
              "      <td>32.0</td>\n",
              "      <td>9.0</td>\n",
              "      <td>3.0</td>\n",
              "      <td>3.0</td>\n",
              "      <td>17.0</td>\n",
              "      <td>2.0</td>\n",
              "      <td>5.0</td>\n",
              "      <td>0.111111</td>\n",
              "    </tr>\n",
              "    <tr>\n",
              "      <th>1</th>\n",
              "      <td>3.0</td>\n",
              "      <td>27.0</td>\n",
              "      <td>13.0</td>\n",
              "      <td>3.0</td>\n",
              "      <td>1.0</td>\n",
              "      <td>14.0</td>\n",
              "      <td>3.0</td>\n",
              "      <td>4.0</td>\n",
              "      <td>3.230769</td>\n",
              "    </tr>\n",
              "    <tr>\n",
              "      <th>2</th>\n",
              "      <td>4.0</td>\n",
              "      <td>22.0</td>\n",
              "      <td>2.5</td>\n",
              "      <td>0.0</td>\n",
              "      <td>1.0</td>\n",
              "      <td>16.0</td>\n",
              "      <td>3.0</td>\n",
              "      <td>5.0</td>\n",
              "      <td>1.400000</td>\n",
              "    </tr>\n",
              "    <tr>\n",
              "      <th>3</th>\n",
              "      <td>4.0</td>\n",
              "      <td>37.0</td>\n",
              "      <td>16.5</td>\n",
              "      <td>4.0</td>\n",
              "      <td>3.0</td>\n",
              "      <td>16.0</td>\n",
              "      <td>5.0</td>\n",
              "      <td>5.0</td>\n",
              "      <td>0.727273</td>\n",
              "    </tr>\n",
              "    <tr>\n",
              "      <th>4</th>\n",
              "      <td>5.0</td>\n",
              "      <td>27.0</td>\n",
              "      <td>9.0</td>\n",
              "      <td>1.0</td>\n",
              "      <td>1.0</td>\n",
              "      <td>14.0</td>\n",
              "      <td>3.0</td>\n",
              "      <td>4.0</td>\n",
              "      <td>4.666666</td>\n",
              "    </tr>\n",
              "  </tbody>\n",
              "</table>\n",
              "</div>"
            ],
            "text/plain": [
              "   rate_marriage   age  yrs_married  ...  occupation  occupation_husb   affairs\n",
              "0            3.0  32.0          9.0  ...         2.0              5.0  0.111111\n",
              "1            3.0  27.0         13.0  ...         3.0              4.0  3.230769\n",
              "2            4.0  22.0          2.5  ...         3.0              5.0  1.400000\n",
              "3            4.0  37.0         16.5  ...         5.0              5.0  0.727273\n",
              "4            5.0  27.0          9.0  ...         3.0              4.0  4.666666\n",
              "\n",
              "[5 rows x 9 columns]"
            ]
          },
          "metadata": {
            "tags": []
          },
          "execution_count": 80
        }
      ]
    },
    {
      "cell_type": "code",
      "metadata": {
        "id": "5ASKdM_Ym2JD",
        "outputId": "d5ee4a3d-76c6-4650-9ba3-8955b1e557fc",
        "colab": {
          "base_uri": "https://localhost:8080/",
          "height": 68
        }
      },
      "source": [
        "df.columns"
      ],
      "execution_count": 81,
      "outputs": [
        {
          "output_type": "execute_result",
          "data": {
            "text/plain": [
              "Index(['rate_marriage', 'age', 'yrs_married', 'children', 'religious', 'educ',\n",
              "       'occupation', 'occupation_husb', 'affairs'],\n",
              "      dtype='object')"
            ]
          },
          "metadata": {
            "tags": []
          },
          "execution_count": 81
        }
      ]
    },
    {
      "cell_type": "code",
      "metadata": {
        "id": "OsEd2TlmsHnx"
      },
      "source": [
        "# Pedict whether they have affair or not\n",
        "# so we are creating the affair to 0/1 -- target variable\n",
        "\n",
        "df['affairs_target'] = df['affairs'].apply(lambda x: 1 if x>0 else 0)"
      ],
      "execution_count": 82,
      "outputs": []
    },
    {
      "cell_type": "code",
      "metadata": {
        "id": "ke8Q2mmoZuZk"
      },
      "source": [
        "X = df.drop(labels='affairs_target', axis=1)\n",
        "y = df['affairs_target']"
      ],
      "execution_count": 83,
      "outputs": []
    },
    {
      "cell_type": "markdown",
      "metadata": {
        "id": "LoN88vFGpFbX"
      },
      "source": [
        "## Explore"
      ]
    },
    {
      "cell_type": "markdown",
      "metadata": {
        "id": "3tMtZ5W5bpV1"
      },
      "source": [
        "**Univariate Analysis**"
      ]
    },
    {
      "cell_type": "code",
      "metadata": {
        "id": "m3atTmyVm8PK",
        "outputId": "137d3247-b766-4d18-e319-37172021868e",
        "colab": {
          "base_uri": "https://localhost:8080/",
          "height": 154
        }
      },
      "source": [
        "for c in X.drop('affairs', axis = 1).columns:\n",
        "  print (c, X[c].unique())"
      ],
      "execution_count": 84,
      "outputs": [
        {
          "output_type": "stream",
          "text": [
            "rate_marriage [3. 4. 5. 2. 1.]\n",
            "age [32.  27.  22.  37.  42.  17.5]\n",
            "yrs_married [ 9.  13.   2.5 16.5 23.   6.   0.5]\n",
            "children [3.  0.  4.  1.  5.5 2. ]\n",
            "religious [3. 1. 2. 4.]\n",
            "educ [17. 14. 16. 12. 20.  9.]\n",
            "occupation [2. 3. 5. 4. 1. 6.]\n",
            "occupation_husb [5. 4. 3. 2. 6. 1.]\n"
          ],
          "name": "stdout"
        }
      ]
    },
    {
      "cell_type": "markdown",
      "metadata": {
        "id": "JMduHYudaSFm"
      },
      "source": [
        "- Checking the unique values we also note that there are no 'nan' or missing values.\n",
        "- Children, yrs_married, age - are continuous.\n",
        "- rate_marriage, religious, educ, occupation, occupation_husb - are categorical."
      ]
    },
    {
      "cell_type": "markdown",
      "metadata": {
        "id": "CxpjyR3sco91"
      },
      "source": [
        "**Encode the Categorical Data**"
      ]
    },
    {
      "cell_type": "code",
      "metadata": {
        "id": "IFCzO-CbcWNT"
      },
      "source": [
        "X = pd.get_dummies(data = X, columns = ['rate_marriage', 'religious', 'educ', 'occupation', 'occupation_husb'])\n",
        "#to escape dummy variable trap - deg of freedom = n-1 \n",
        "X.drop(labels = ['rate_marriage_5.0','educ_20.0', 'religious_4.0', 'occupation_6.0', 'occupation_husb_6.0' ], axis = 1,inplace = True) "
      ],
      "execution_count": 85,
      "outputs": []
    },
    {
      "cell_type": "code",
      "metadata": {
        "id": "Uz7F87KsfN3X",
        "outputId": "60025af0-094e-4685-b311-bf35836a2a0c",
        "colab": {
          "base_uri": "https://localhost:8080/",
          "height": 495
        }
      },
      "source": [
        "d = pd.concat([X,y] , axis = 1)\n",
        "d.corr()['affairs_target'].sort_values(ascending = False)"
      ],
      "execution_count": 86,
      "outputs": [
        {
          "output_type": "execute_result",
          "data": {
            "text/plain": [
              "affairs_target         1.000000\n",
              "affairs                0.464046\n",
              "rate_marriage_3.0      0.210025\n",
              "yrs_married            0.203109\n",
              "rate_marriage_2.0      0.160799\n",
              "children               0.159833\n",
              "age                    0.146519\n",
              "rate_marriage_1.0      0.114272\n",
              "occupation_5.0         0.073766\n",
              "religious_1.0          0.072103\n",
              "religious_2.0          0.061692\n",
              "educ_14.0              0.051659\n",
              "occupation_3.0         0.045729\n",
              "educ_12.0              0.036468\n",
              "educ_9.0               0.021445\n",
              "occupation_husb_5.0    0.021181\n",
              "occupation_husb_3.0    0.018884\n",
              "occupation_husb_2.0    0.003474\n",
              "rate_marriage_4.0      0.000681\n",
              "occupation_husb_4.0   -0.011295\n",
              "occupation_2.0        -0.024613\n",
              "occupation_1.0        -0.026140\n",
              "educ_17.0             -0.030295\n",
              "occupation_husb_1.0   -0.046652\n",
              "religious_3.0         -0.051279\n",
              "educ_16.0             -0.077066\n",
              "occupation_4.0        -0.082706\n",
              "Name: affairs_target, dtype: float64"
            ]
          },
          "metadata": {
            "tags": []
          },
          "execution_count": 86
        }
      ]
    },
    {
      "cell_type": "markdown",
      "metadata": {
        "id": "gBCnI0irbyiT"
      },
      "source": [
        "**Bivariate Analysis**"
      ]
    },
    {
      "cell_type": "code",
      "metadata": {
        "id": "9kBtARWApTG2",
        "outputId": "3c997567-c579-40a6-9124-e5d622e81994",
        "colab": {
          "base_uri": "https://localhost:8080/",
          "height": 287
        }
      },
      "source": [
        "num_feat =['children', 'yrs_married', 'age', 'affairs']\n",
        "sns.heatmap(df[num_feat].corr(), annot = True, fmt = '.2f')"
      ],
      "execution_count": 87,
      "outputs": [
        {
          "output_type": "execute_result",
          "data": {
            "text/plain": [
              "<matplotlib.axes._subplots.AxesSubplot at 0x7fc6f0167470>"
            ]
          },
          "metadata": {
            "tags": []
          },
          "execution_count": 87
        },
        {
          "output_type": "display_data",
          "data": {
            "image/png": "[encoded data removed]",
            "text/plain": [
              "<Figure size 432x288 with 2 Axes>"
            ]
          },
          "metadata": {
            "tags": [],
            "needs_background": "light"
          }
        }
      ]
    },
    {
      "cell_type": "markdown",
      "metadata": {
        "id": "ae_xINmFcAV1"
      },
      "source": [
        "- There is a strong correlation between age and yrs_married\n",
        "- There is a correlation between yrs_married and children"
      ]
    },
    {
      "cell_type": "markdown",
      "metadata": {
        "id": "gKx-dblJxwhu"
      },
      "source": [
        "## Build Model"
      ]
    },
    {
      "cell_type": "code",
      "metadata": {
        "id": "zYtX4p-jyjkM"
      },
      "source": [
        "X_train, X_test, y_train, y_test = train_test_split(X, y, test_size = 0.2, random_state = 101)"
      ],
      "execution_count": 88,
      "outputs": []
    },
    {
      "cell_type": "code",
      "metadata": {
        "id": "mvMMR3wpuXsH"
      },
      "source": [
        "lr = LogisticRegression(max_iter=1000)\n",
        "lr.fit(X_train,y_train)\n",
        "y_pred = lr.predict(X_test)"
      ],
      "execution_count": 89,
      "outputs": []
    },
    {
      "cell_type": "code",
      "metadata": {
        "id": "STiBLopfzxiN",
        "outputId": "a6917b59-42a5-41a4-faee-ff92d13c9066",
        "colab": {
          "base_uri": "https://localhost:8080/",
          "height": 51
        }
      },
      "source": [
        "cm = confusion_matrix(y_test, y_pred)\n",
        "print (cm)"
      ],
      "execution_count": 90,
      "outputs": [
        {
          "output_type": "stream",
          "text": [
            "[[850   0]\n",
            " [ 28 396]]\n"
          ],
          "name": "stdout"
        }
      ]
    },
    {
      "cell_type": "markdown",
      "metadata": {
        "id": "vMONhpen3CuU"
      },
      "source": [
        "Model has nill type-1 errors - Hence it is not worse and performs good enough!"
      ]
    },
    {
      "cell_type": "code",
      "metadata": {
        "id": "5l5bxa3Q0YlS",
        "outputId": "622df5b9-455e-4ecc-9934-8b1260b5a347",
        "colab": {
          "base_uri": "https://localhost:8080/",
          "height": 171
        }
      },
      "source": [
        "print (classification_report(y_test, y_pred))"
      ],
      "execution_count": 91,
      "outputs": [
        {
          "output_type": "stream",
          "text": [
            "              precision    recall  f1-score   support\n",
            "\n",
            "           0       0.97      1.00      0.98       850\n",
            "           1       1.00      0.93      0.97       424\n",
            "\n",
            "    accuracy                           0.98      1274\n",
            "   macro avg       0.98      0.97      0.97      1274\n",
            "weighted avg       0.98      0.98      0.98      1274\n",
            "\n"
          ],
          "name": "stdout"
        }
      ]
    },
    {
      "cell_type": "markdown",
      "metadata": {
        "id": "1vBrV4gO3vG_"
      },
      "source": [
        "Model has good precision, recall, accuracy and f1_score."
      ]
    }
  ]
}